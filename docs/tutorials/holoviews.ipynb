{
 "cells": [
  {
   "cell_type": "markdown",
   "metadata": {},
   "source": [
    "# Holoviews"
   ]
  },
  {
   "cell_type": "code",
   "execution_count": null,
   "metadata": {
    "slideshow": {
     "slide_type": "slide"
    }
   },
   "outputs": [],
   "source": [
    "%load_ext autoreload\n",
    "%autoreload 2\n",
    "\n",
    "import numpy as np\n",
    "import scipy\n",
    "import pandas as pd\n",
    "import matplotlib as mpl\n",
    "import matplotlib.pyplot as plt\n",
    "from skimage import io\n",
    "\n",
    "from pathlib import Path\n",
    "import holoviews as hv\n",
    "\n",
    "from nima import nima\n",
    "\n",
    "cm = plt.cm.inferno_r\n",
    "hv.notebook_extension()\n",
    "\n",
    "# tdata = Path(\"../../tests/data/\")\n",
    "tdata = Path(\"../../tests/data/\")\n",
    "fp = tdata / \"1b_c16_15.tif\""
   ]
  },
  {
   "cell_type": "code",
   "execution_count": null,
   "metadata": {
    "slideshow": {
     "slide_type": "slide"
    }
   },
   "outputs": [],
   "source": [
    "channels = [\"G\", \"R\", \"C\"]\n",
    "dim, n_ch, times = nima.read_tiff(fp, channels)\n",
    "\n",
    "dimm = nima.d_median(dim)\n",
    "f = nima.d_show(dimm, cmap=cm)"
   ]
  },
  {
   "cell_type": "code",
   "execution_count": null,
   "metadata": {
    "slideshow": {
     "slide_type": "slide"
    }
   },
   "outputs": [],
   "source": [
    "%%opts Image [aspect=512/512] \n",
    "\n",
    "%%opts Image.Cyan style(cmap=plt.cm.Blues)\n",
    "%%opts Image.Green style(cmap=plt.cm.Greens)\n",
    "%%opts Image.Red style(cmap=plt.cm.Reds)\n",
    "\n",
    "chans = hv.Image(dim['C'][0], group='cyan') \\\n",
    "    + hv.Image(dim['G'][0], group='green') \\\n",
    "    + hv.Image(dim['R'][0], group='red')\n",
    "\n",
    "chans"
   ]
  },
  {
   "cell_type": "code",
   "execution_count": null,
   "metadata": {
    "slideshow": {
     "slide_type": "slide"
    }
   },
   "outputs": [],
   "source": [
    "c = [(i, hv.Image(im)) for i, im in enumerate(dim[\"C\"])]\n",
    "c = hv.HoloMap(c, kdims=[\"Frame\"])\n",
    "g = [(i, hv.Image(im)) for i, im in enumerate(dim[\"G\"])]\n",
    "g = hv.HoloMap(g, kdims=[\"Frame\"])\n",
    "r = [(i, hv.Image(im)) for i, im in enumerate(dim[\"R\"])]\n",
    "r = hv.HoloMap(r, kdims=[\"Frame\"])"
   ]
  },
  {
   "cell_type": "code",
   "execution_count": null,
   "metadata": {
    "slideshow": {
     "slide_type": "slide"
    }
   },
   "outputs": [],
   "source": [
    "%%output holomap='auto'\n",
    "%%opts Image style(cmap='viridis')\n",
    "(c + g).select(Frame={0,5,6,7,10,30}).cols(2)"
   ]
  },
  {
   "cell_type": "code",
   "execution_count": null,
   "metadata": {
    "slideshow": {
     "slide_type": "slide"
    }
   },
   "outputs": [],
   "source": [
    "c[::20].overlay(\"Frame\")"
   ]
  },
  {
   "cell_type": "code",
   "execution_count": null,
   "metadata": {},
   "outputs": [],
   "source": [
    "wl = hv.Dimension(\"excitation wavelength\", unit=\"nm\")\n",
    "c = c.add_dimension(wl, 1, 458)\n",
    "g = g.add_dimension(wl, 1, 488)\n",
    "r = r.add_dimension(wl, 1, 561)\n",
    "\n",
    "channels = c.clone()\n",
    "channels.update(g)\n",
    "channels.update(r)"
   ]
  },
  {
   "cell_type": "code",
   "execution_count": null,
   "metadata": {},
   "outputs": [],
   "source": [
    "%%opts Image style(cmap='viridis')\n",
    "%%output size=300\n",
    "channels[::5].grid(['Frame', 'excitation wavelength'])"
   ]
  },
  {
   "cell_type": "code",
   "execution_count": null,
   "metadata": {},
   "outputs": [],
   "source": [
    "t = [(i, hv.Image(im)) for i, im in enumerate(dim[\"C\"])]"
   ]
  },
  {
   "cell_type": "code",
   "execution_count": null,
   "metadata": {},
   "outputs": [],
   "source": [
    "hv.HoloMap([(i, hv.Image(im)) for i, im in enumerate(dim[\"C\"])], kdims=[\"frame\"])"
   ]
  },
  {
   "cell_type": "code",
   "execution_count": null,
   "metadata": {},
   "outputs": [],
   "source": [
    "hv.NdLayout(\n",
    "    {\n",
    "        k: hv.HoloMap(\n",
    "            [(i, hv.Image(im)) for i, im in enumerate(dim[k])], kdims=[\"frame\"]\n",
    "        )\n",
    "        for k in dim\n",
    "    },\n",
    "    kdims=[\"channels\"],\n",
    ")[::4]"
   ]
  },
  {
   "cell_type": "code",
   "execution_count": null,
   "metadata": {},
   "outputs": [],
   "source": [
    "%%opts Image (cmap='viridis') \n",
    "%%opts Image.A [aspect=2]\n",
    "im = hv.Image(dim[\"G\"][1], bounds=(0, 0, 512, 512))\n",
    "im2 = hv.Image(dim['C'][1], bounds=(0, 0, 512, 512))\n",
    "im3 = hv.Image(dimm['C'][1], bounds=(0, 0, 512, 512))\n",
    "((im * hv.HLine(y=350)) + im.sample(y=350) + (im2 * hv.HLine(y=150)) + im2.sample(y=150) * im3.sample(y=150)).cols(3)"
   ]
  }
 ],
 "metadata": {
  "celltoolbar": "Slideshow",
  "kernelspec": {
   "display_name": "Python 3 (ipykernel)",
   "language": "python",
   "name": "python3"
  },
  "language_info": {
   "codemirror_mode": {
    "name": "ipython",
    "version": 3
   },
   "file_extension": ".py",
   "mimetype": "text/x-python",
   "name": "python",
   "nbconvert_exporter": "python",
   "pygments_lexer": "ipython3",
   "version": "3.11.4"
  }
 },
 "nbformat": 4,
 "nbformat_minor": 4
}
