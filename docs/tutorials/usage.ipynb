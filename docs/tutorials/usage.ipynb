{
 "cells": [
  {
   "cell_type": "code",
   "execution_count": null,
   "id": "da87ac8b-5701-4312-a1f2-cdb1bba0f78f",
   "metadata": {},
   "outputs": [],
   "source": [
    "%load_ext autoreload\n",
    "%autoreload 2\n",
    "# import seaborn.apionly as sns\n",
    "# seaborn.reset_orig()\n",
    "# mpl.rcParams.update(inline_rc)\n",
    "import numpy as np\n",
    "import scipy\n",
    "import pandas as pd\n",
    "import matplotlib as mpl\n",
    "import matplotlib.pyplot as plt\n",
    "import skimage\n",
    "import skimage.io\n",
    "\n",
    "%matplotlib inline\n",
    "inline_rc = dict(mpl.rcParams)\n",
    "\n",
    "from nima import nima\n",
    "\n",
    "cm = plt.cm.inferno_r\n",
    "\n",
    "fp = \"../../tests/data/1b_c16_15.tif\""
   ]
  },
  {
   "cell_type": "markdown",
   "id": "c53f2586-070d-401d-a996-815419bcb3e7",
   "metadata": {},
   "source": [
    "# usage"
   ]
  },
  {
   "cell_type": "code",
   "execution_count": null,
   "id": "6edb1edc-5b75-412e-8d10-15611c56a9df",
   "metadata": {},
   "outputs": [],
   "source": [
    "channels = [\"G\", \"R\", \"C\"]\n",
    "# dark = io.imread('/home/dati/GBM_persson/analyses/15.02.05_cal-GBM5-pBJclop/dark/dark-25_500.tif')\n",
    "# flat = io.imread('/home/dati/GBM_persson/analyses/15.02.05_cal-GBM5-pBJclop/flat/flat-C-dark-37bis_500.tif')\n",
    "\n",
    "d_im, n_ch, times = nima.read_tiff(fp, channels)"
   ]
  },
  {
   "cell_type": "code",
   "execution_count": null,
   "id": "bfe6f07d-2b11-4da0-8595-6b5f156fa0e4",
   "metadata": {},
   "outputs": [],
   "source": [
    "d_im_bg, bgs, ff, bgv = nima.d_bg(d_im, downscale=(2, 2), kind=\"li_adaptive\")\n",
    "bgs"
   ]
  },
  {
   "cell_type": "code",
   "execution_count": null,
   "id": "ea82ebfb-a555-42a2-a4c4-bb266f490f8e",
   "metadata": {},
   "outputs": [],
   "source": [
    "d_im_bg[\"G\"].__sizeof__()"
   ]
  },
  {
   "cell_type": "code",
   "execution_count": null,
   "id": "519bd702-c705-4d03-b7a0-8dae8a2b1d0c",
   "metadata": {},
   "outputs": [],
   "source": [
    "scipy.stats.distributions.norm.fit(bgv[\"C\"][1])"
   ]
  },
  {
   "cell_type": "code",
   "execution_count": null,
   "id": "f47eed02-5217-4ba3-8f06-f3c8bbdec20a",
   "metadata": {},
   "outputs": [],
   "source": [
    "import seaborn as sns\n",
    "\n",
    "sns.distplot(bgv[\"C\"][1], fit=scipy.stats.distributions.norm)\n",
    "plt.yscale(\"log\")"
   ]
  },
  {
   "cell_type": "code",
   "execution_count": null,
   "id": "7fa10c3b-f6a9-4407-8c99-4399e5a771b4",
   "metadata": {},
   "outputs": [],
   "source": [
    "ff[\"G\"][1][0]"
   ]
  },
  {
   "cell_type": "code",
   "execution_count": null,
   "id": "74de7076-c9b8-48ab-b7cc-10529ea9cffe",
   "metadata": {},
   "outputs": [],
   "source": [
    "for i in range(4):\n",
    "    plt.hist(bgv[\"C\"][i], histtype=\"step\", bins=32, log=1)"
   ]
  },
  {
   "cell_type": "code",
   "execution_count": null,
   "id": "3708e599-7382-4157-8c9b-c75ea985a807",
   "metadata": {},
   "outputs": [],
   "source": [
    "%%timeit\n",
    "nima.d_mask_label(\n",
    "    d_im_bg, threshold_method=\"yen\", min_size=2000, channels=channels, watershed=0\n",
    ")"
   ]
  },
  {
   "cell_type": "code",
   "execution_count": null,
   "id": "d3e714ac-33b7-4ca3-8e70-75baf988f28b",
   "metadata": {},
   "outputs": [],
   "source": [
    "d_im.keys()"
   ]
  },
  {
   "cell_type": "code",
   "execution_count": null,
   "id": "960a55fd-496c-432e-8b6e-286d787988f7",
   "metadata": {},
   "outputs": [],
   "source": [
    "f = nima.d_show(d_im_bg)"
   ]
  },
  {
   "cell_type": "code",
   "execution_count": null,
   "id": "fd972f2a-5e7c-4d73-8520-585c3e1603c9",
   "metadata": {},
   "outputs": [],
   "source": [
    "%%time\n",
    "meas, pr = nima.d_meas_props(d_im_bg)"
   ]
  },
  {
   "cell_type": "code",
   "execution_count": null,
   "id": "d90848c9-382d-4f81-bfd2-9a4c0beb1313",
   "metadata": {},
   "outputs": [],
   "source": [
    "f = nima.d_plot_meas(bgs, meas, channels=channels)"
   ]
  },
  {
   "cell_type": "code",
   "execution_count": null,
   "id": "dfd6fcd7-cff1-4155-bc6c-7aa40dd22862",
   "metadata": {},
   "outputs": [],
   "source": [
    "plt.subplot(1, 2, 1)\n",
    "skimage.io.imshow(d_im_bg[\"r_cl\"][2], vmin=-0.0, vmax=1.1)\n",
    "plt.subplot(1, 2, 2)\n",
    "skimage.io.imshow(d_im_bg[\"r_pH\"][2], vmin=7.3, vmax=10.0)"
   ]
  },
  {
   "cell_type": "markdown",
   "id": "fc8667b7-7bdf-4d8a-8c3c-123a81d5bb88",
   "metadata": {},
   "source": [
    "## background, AF, target cells"
   ]
  },
  {
   "cell_type": "code",
   "execution_count": null,
   "id": "e7135bff-cc86-482c-89fe-6bb90f0c9454",
   "metadata": {},
   "outputs": [],
   "source": [
    "channels3 = [\"G\", \"R\", \"C\", \"G2\"]\n",
    "dim3, _, _ = nima.read_tiff(\n",
    "    \"/home/dati/GBM_persson/data/15.02.05_cal-GBM5-pBJclop/ph633/1_20_40.tif\", channels3\n",
    ")\n",
    "dim3, bgm3, _, bgv3 = nima.d_bg(dim3, downscale=(2, 2), kind=\"li_adaptive\")\n",
    "c = dim3[\"C\"]\n",
    "g = dim3[\"G\"]\n",
    "r = dim3[\"R\"]\n",
    "\n",
    "bc = bgv3[\"C\"][2]\n",
    "bg = bgv3[\"G\"][3]\n",
    "br = bgv3[\"R\"][3]"
   ]
  },
  {
   "cell_type": "markdown",
   "id": "617c484e-7ba8-401e-beb4-52f24f1f50d9",
   "metadata": {},
   "source": [
    "c = d_im_bg['C']\n",
    "g = d_im_bg['G']\n",
    "r = d_im_bg['R']\n",
    "\n",
    "bc = bgv['C'][2]\n",
    "bg = bgv['G'][3]\n",
    "br = bgv['R'][3]"
   ]
  },
  {
   "cell_type": "code",
   "execution_count": null,
   "id": "af3ea1ad-71ad-418d-bab3-1312e934625d",
   "metadata": {},
   "outputs": [],
   "source": [
    "mmin = min(len(bc), len(bg), len(br))\n",
    "\n",
    "print(\"c =\", len(bc))\n",
    "print(\"g =\", len(bg))\n",
    "print(\"r =\", len(br))\n",
    "\n",
    "plt.figure(figsize=(7.5, 6))\n",
    "\n",
    "plt.subplot(2, 2, 1)\n",
    "mmin = min(len(bc), len(bg))\n",
    "plt.hexbin(bg[:mmin], bc[:mmin], bins=\"log\", cmap=plt.cm.viridis_r)\n",
    "cb = plt.colorbar()\n",
    "plt.xlabel(\"green\")\n",
    "plt.ylabel(\"cyan\")\n",
    "\n",
    "plt.subplot(2, 2, 2)\n",
    "mmin = min(len(bc), len(br))\n",
    "plt.hexbin(br[:mmin], bc[:mmin], bins=\"log\", cmap=plt.cm.viridis_r)\n",
    "cb = plt.colorbar()\n",
    "plt.xlabel(\"red\")\n",
    "plt.ylabel(\"cyan\")\n",
    "\n",
    "ax = plt.subplot(2, 2, 4)\n",
    "mmin = min(len(br), len(bg))\n",
    "plt.hexbin(br[:mmin], bg[:mmin], bins=\"log\", cmap=plt.cm.viridis_r)\n",
    "cb = plt.colorbar()\n",
    "plt.xlabel(\"red\")\n",
    "plt.ylabel(\"green\")"
   ]
  },
  {
   "cell_type": "code",
   "execution_count": null,
   "id": "829b94c1-0bdb-42aa-a2f3-7759eb872ace",
   "metadata": {},
   "outputs": [],
   "source": [
    "from mpl_toolkits.axes_grid1.inset_locator import mark_inset\n",
    "\n",
    "plt.figure(figsize=(10, 8))\n",
    "plt.subplot(2, 2, 1)\n",
    "plt.hexbin(g.ravel(), c.ravel(), bins=\"log\", cmap=plt.cm.viridis_r)\n",
    "cb = plt.colorbar()\n",
    "plt.xlabel(\"green\")\n",
    "plt.ylabel(\"cyan\")\n",
    "\n",
    "plt.subplot(2, 2, 2)\n",
    "plt.hexbin(r.ravel(), c.ravel(), bins=\"log\", cmap=plt.cm.viridis_r)\n",
    "cb = plt.colorbar()\n",
    "plt.xlabel(\"red\")\n",
    "plt.ylabel(\"cyan\")\n",
    "\n",
    "ax = plt.subplot(2, 2, 4)\n",
    "plt.hexbin(r.ravel(), g.ravel(), bins=\"log\", cmap=plt.cm.viridis_r)\n",
    "cb = plt.colorbar()\n",
    "plt.xlabel(\"red\")\n",
    "plt.ylabel(\"green\")\n",
    "\n",
    "axins = plt.axes([0.2, 0.12, 0.28, 0.28])\n",
    "axins.hexbin(\n",
    "    r.ravel(), g.ravel(), extent=(0, 80, 0, 150), bins=\"log\", cmap=plt.cm.viridis_r\n",
    ")\n",
    "\n",
    "mark_inset(ax, axins, loc1=1, loc2=4, fc=\"none\", ec=\"0.5\")"
   ]
  },
  {
   "cell_type": "code",
   "execution_count": null,
   "id": "913e4f2a-29ac-485c-ac51-714af48db614",
   "metadata": {},
   "outputs": [],
   "source": [
    "bf = skimage.io.imread(\n",
    "    \"/home/dati/GBM_persson/data/15.02.05_cal-GBM5-pBJclop/ph633/1_20_39.tif\"\n",
    ")\n",
    "bf = skimage.exposure.adjust_log(bf)\n",
    "\n",
    "xini = 1090\n",
    "xfin = 1150\n",
    "plt.figure(figsize=(12, 8))\n",
    "plt.subplot(1, 2, 1)\n",
    "plt.xlabel(\"Green\")\n",
    "plt.ylabel(\"Cyan\")\n",
    "plt.hexbin(\n",
    "    r[:, 200:500, xini:xfin].ravel(),\n",
    "    c[:, 200:500, xini:xfin].ravel(),\n",
    "    bins=\"log\",\n",
    "    cmap=plt.cm.viridis_r,\n",
    ")\n",
    "cb = plt.colorbar()\n",
    "plt.subplot(4, 2, 2)\n",
    "plt.imshow(bf[1, 200:500, xini:xfin], vmin=50, vmax=550, cmap=plt.cm.Greys)\n",
    "plt.subplot(4, 2, 4)\n",
    "plt.imshow(c[1, 200:500, xini:xfin], cmap=plt.cm.Blues_r)\n",
    "\n",
    "plt.subplot(4, 2, 6)\n",
    "plt.imshow(g[1, 200:500, xini:xfin], cmap=plt.cm.Greens_r)\n",
    "\n",
    "plt.subplot(4, 2, 8)\n",
    "plt.imshow(r[1, 200:500, xini:xfin], cmap=plt.cm.Reds_r)\n",
    "\n",
    "plt.subplots_adjust()"
   ]
  },
  {
   "cell_type": "code",
   "execution_count": null,
   "id": "c7f273a6-173d-41f9-a317-d61cabfd4521",
   "metadata": {},
   "outputs": [],
   "source": [
    "bf = skimage.io.imread(\n",
    "    \"/home/dati/GBM_persson/data/15.02.05_cal-GBM5-pBJclop/ph633/1_20_39.tif\"\n",
    ")\n",
    "bf = skimage.exposure.adjust_log(bf)\n",
    "\n",
    "xini = 1150\n",
    "xfin = 1388\n",
    "plt.figure(figsize=(12, 8))\n",
    "plt.subplot(1, 2, 1)\n",
    "plt.xlabel(\"Green\")\n",
    "plt.ylabel(\"Cyan\")\n",
    "plt.hexbin(\n",
    "    r[:, 200:500, xini:xfin].ravel(),\n",
    "    c[:, 200:500, xini:xfin].ravel(),\n",
    "    bins=\"log\",\n",
    "    cmap=plt.cm.viridis_r,\n",
    ")\n",
    "cb = plt.colorbar()\n",
    "plt.subplot(4, 2, 2)\n",
    "plt.imshow(bf[1, 200:500, xini:xfin], vmin=50, vmax=550, cmap=plt.cm.Greys)\n",
    "plt.subplot(4, 2, 4)\n",
    "plt.imshow(c[1, 200:500, xini:xfin], cmap=plt.cm.Blues_r)\n",
    "\n",
    "plt.subplot(4, 2, 6)\n",
    "plt.imshow(g[1, 200:500, xini:xfin], cmap=plt.cm.Greens_r)\n",
    "\n",
    "plt.subplot(4, 2, 8)\n",
    "plt.imshow(r[1, 200:500, xini:xfin], cmap=plt.cm.Reds_r)\n",
    "\n",
    "plt.subplots_adjust()"
   ]
  },
  {
   "cell_type": "code",
   "execution_count": null,
   "id": "b0060b27-bfea-4cd5-99fa-8fde6c9eefde",
   "metadata": {},
   "outputs": [],
   "source": [
    "import statsmodels.api as sm\n",
    "\n",
    "\n",
    "# import pylab\n",
    "def qqplot(v1, v2):\n",
    "    ml = min(len(v1), len(v2))\n",
    "    sm.qqplot_2samples(v1[:ml], v2[:ml])\n",
    "    # pylab.show()\n",
    "\n",
    "\n",
    "qqplot(bgv3[\"R\"][2], bgv3[\"G\"][2])\n",
    "qqplot(bgv3[\"R\"][1], bgv3[\"R\"][2])"
   ]
  },
  {
   "cell_type": "markdown",
   "id": "48aa0fd4-e544-427d-9a26-fe5fcbc59e72",
   "metadata": {},
   "source": [
    "# flat image correction"
   ]
  },
  {
   "cell_type": "code",
   "execution_count": null,
   "id": "d458cca7-0828-4817-ad1b-c39bf32362d7",
   "metadata": {},
   "outputs": [],
   "source": [
    "g1a = nima.read_tiff(\"/home/dati/dt-clop3/data/210917/3alpha/c1_2.tf8\", channels)[0][\n",
    "    \"G\"\n",
    "][2]\n",
    "g2a = nima.read_tiff(\"/home/dati/dt-clop3/data/210917/3alpha/c2_2.tf8\", channels)[0][\n",
    "    \"G\"\n",
    "][2]\n",
    "g3a = nima.read_tiff(\"/home/dati/dt-clop3/data/210917/3alpha/c3_2.tf8\", channels)[0][\n",
    "    \"G\"\n",
    "][2]\n",
    "g1 = nima.read_tiff(\"/home/dati/dt-clop3/data/210917/3/c1_2.tf8\", channels)[0][\"G\"][2]\n",
    "g2 = nima.read_tiff(\"/home/dati/dt-clop3/data/210917/3/c2_2.tf8\", channels)[0][\"G\"][2]\n",
    "g3 = nima.read_tiff(\"/home/dati/dt-clop3/data/210917/3/c3_2.tf8\", channels)[0][\"G\"][2]"
   ]
  },
  {
   "cell_type": "code",
   "execution_count": null,
   "id": "e5c8dcb8-2477-4d5f-ba08-5f2b5a104d63",
   "metadata": {},
   "outputs": [],
   "source": [
    "plt.subplot(1, 2, 1)\n",
    "skimage.io.imshow(\n",
    "    skimage.filters.gaussian(np.max([g1, g2, g3, g1a, g2a, g3a], axis=0), sigma=500)\n",
    ")\n",
    "plt.subplot(1, 2, 2)\n",
    "skimage.io.imshow(skimage.filters.gaussian(np.max([g1, g2, g3], axis=0), sigma=500))"
   ]
  },
  {
   "cell_type": "markdown",
   "id": "42435ad0-9d17-4122-a5d4-8f560b5f3d9d",
   "metadata": {},
   "source": [
    "# memmap"
   ]
  },
  {
   "cell_type": "code",
   "execution_count": null,
   "id": "2b911cef-7b6f-4c84-a7e8-7da61d5bf746",
   "metadata": {},
   "outputs": [],
   "source": [
    "import tifffile\n",
    "\n",
    "skimage.io.imshow(\n",
    "    tifffile.memmap(\"/home/dati/dt-clop3/data/210917/3/c1_2.tf8\", mode=\"r\", page=26)\n",
    ")"
   ]
  },
  {
   "cell_type": "code",
   "execution_count": null,
   "id": "911e29ae-91c6-4176-90cf-e640df6fb8dd",
   "metadata": {},
   "outputs": [],
   "source": [
    "with tifffile.TiffFile(\"/home/dati/dt-clop3/data/210917/3alpha/c1_2.tf8\") as tif:\n",
    "    im = tif.asarray()\n",
    "    axes = tif.series[0].axes\n",
    "    print(axes)"
   ]
  },
  {
   "cell_type": "markdown",
   "id": "e106c237-b203-4d36-a88b-c110aada7046",
   "metadata": {},
   "source": [
    "# zarr + dask"
   ]
  },
  {
   "cell_type": "code",
   "execution_count": null,
   "id": "f750d196-1175-4fc0-bb12-bfc3fae8d6ec",
   "metadata": {},
   "outputs": [],
   "source": [
    "from dask import distributed\n",
    "\n",
    "client = distributed.Client()\n",
    "print(client.dashboard_link)"
   ]
  },
  {
   "cell_type": "code",
   "execution_count": null,
   "id": "ec90902e-c3c5-45c4-ac78-7fff2cb42db5",
   "metadata": {},
   "outputs": [],
   "source": [
    "import dask.array as da\n",
    "\n",
    "import numpy as np\n",
    "import matplotlib.pyplot as plt\n",
    "import skimage\n",
    "import skimage.io\n",
    "import skimage.filters\n",
    "import zarr\n",
    "import tifffile\n",
    "\n",
    "store = tifffile.imread(\"/home/dati/dt-clop3/data/210920/flatxy.tf8\", aszarr=True)\n",
    "\n",
    "zc1a = zarr.open(store)\n",
    "zc1a.info"
   ]
  },
  {
   "cell_type": "code",
   "execution_count": null,
   "id": "20a40cd3-77b4-4228-859d-9234b8504439",
   "metadata": {},
   "outputs": [],
   "source": [
    "store"
   ]
  },
  {
   "cell_type": "code",
   "execution_count": null,
   "id": "66decde7-865e-4fe3-ad1b-16392f236aff",
   "metadata": {},
   "outputs": [],
   "source": [
    "store.close()"
   ]
  },
  {
   "cell_type": "code",
   "execution_count": null,
   "id": "769ef4c1-8aee-499a-822b-beef66917b5e",
   "metadata": {},
   "outputs": [],
   "source": [
    "dd = da.from_zarr(store)"
   ]
  },
  {
   "cell_type": "code",
   "execution_count": null,
   "id": "ae4c28d5-a4c2-4ce8-b483-15e22b42efc8",
   "metadata": {},
   "outputs": [],
   "source": [
    "dd.shape"
   ]
  },
  {
   "cell_type": "code",
   "execution_count": null,
   "id": "e2684e9c-52bd-478d-9c3e-9e92b9f82892",
   "metadata": {},
   "outputs": [],
   "source": [
    "dd = da.from_array(zc1a)"
   ]
  },
  {
   "cell_type": "code",
   "execution_count": null,
   "id": "e0546c24-b8a0-4b21-b201-59008a02d97b",
   "metadata": {},
   "outputs": [],
   "source": [
    "pj = dd[:, 0].max()"
   ]
  },
  {
   "cell_type": "code",
   "execution_count": null,
   "id": "ba1dfdfd-78b5-4bdb-b512-a2d30f448782",
   "metadata": {},
   "outputs": [],
   "source": [
    "pj"
   ]
  },
  {
   "cell_type": "code",
   "execution_count": null,
   "id": "4a74c520-24e5-41b2-8959-435ded1db862",
   "metadata": {},
   "outputs": [],
   "source": [
    "pj.compute()"
   ]
  },
  {
   "cell_type": "code",
   "execution_count": null,
   "id": "68e55514-1dc9-4306-90a4-9319b7275be8",
   "metadata": {},
   "outputs": [],
   "source": [
    "mp = np.max(zc1a, axis=0)"
   ]
  },
  {
   "cell_type": "code",
   "execution_count": null,
   "id": "f61cc0c4-6359-463b-ad7b-50c006aeedfa",
   "metadata": {},
   "outputs": [],
   "source": [
    "plt.subplot(2, 2, 1)\n",
    "skimage.io.imshow(mp[1])\n",
    "plt.subplot(2, 2, 2)\n",
    "skimage.io.imshow(skimage.filters.gaussian(mp[0], sigma=500))\n",
    "plt.subplot(2, 2, 3)\n",
    "skimage.io.imshow(skimage.filters.gaussian(mp[1], sigma=500))\n",
    "plt.subplot(2, 2, 4)\n",
    "skimage.io.imshow(skimage.filters.gaussian(mp[2], sigma=500))"
   ]
  },
  {
   "cell_type": "code",
   "execution_count": null,
   "id": "126b2385-58ae-4071-b65f-213fad14cfc1",
   "metadata": {},
   "outputs": [],
   "source": [
    "(np.maximum.reduce(zc1a) == mp).all()"
   ]
  },
  {
   "cell_type": "code",
   "execution_count": null,
   "id": "7a461e1c-1125-4c61-901c-c1955b5fb5f9",
   "metadata": {},
   "outputs": [],
   "source": [
    "zc1a.set_basic_selection"
   ]
  },
  {
   "cell_type": "code",
   "execution_count": null,
   "id": "f42bbc36-2f9c-48b9-bd5f-2b0156071774",
   "metadata": {},
   "outputs": [],
   "source": [
    "from dask.diagnostics import ProgressBar\n",
    "from skimage import filters\n",
    "\n",
    "\n",
    "def flat(fp):\n",
    "    store = tifffile.imread(fp, aszarr=True)\n",
    "    dask_array = da.from_zarr(store)\n",
    "    mpd = np.max(\n",
    "        dask_array[:-1], axis=0\n",
    "    )  # OME series expected vs got frames for interrupted acquisition\n",
    "    # mpd = np.mean(dask_array[:-1], axis=0)\n",
    "    # mpd = np.maximum.reduce(dask_array[:-1])\n",
    "    with ProgressBar():\n",
    "        mp = mpd.compute()\n",
    "    plt.subplot(2, 2, 1)\n",
    "    skimage.io.imshow(mp[1])\n",
    "    plt.subplot(2, 2, 2)\n",
    "    skimage.io.imshow(skimage.filters.gaussian(mp[0], sigma=500))\n",
    "    plt.subplot(2, 2, 3)\n",
    "    skimage.io.imshow(skimage.filters.gaussian(mp[1], sigma=500))\n",
    "    plt.subplot(2, 2, 4)\n",
    "    skimage.io.imshow(skimage.filters.gaussian(mp[2], sigma=500))\n",
    "    return mp"
   ]
  },
  {
   "cell_type": "code",
   "execution_count": null,
   "id": "93c9aaf6-8c6d-4410-ac17-fba17886ab26",
   "metadata": {},
   "outputs": [],
   "source": []
  },
  {
   "cell_type": "code",
   "execution_count": null,
   "id": "bb09504b-ce4e-42b3-af3f-9b7eb3b720f5",
   "metadata": {},
   "outputs": [],
   "source": [
    "from dask.diagnostics import ProgressBar\n",
    "from skimage import filters\n",
    "import dask_image.ndfilters\n",
    "\n",
    "\n",
    "def flatS(fp):\n",
    "    store = tifffile.imread(fp, aszarr=True)\n",
    "    dask_array = da.from_zarr(store)\n",
    "    # print(zc1a.info)\n",
    "    smooth = dask_image.ndfilters.gaussian_filter(dask_array[:-1], sigma=3)\n",
    "    mpd = da.max(smooth, axis=0)\n",
    "    # mpd = np.mean(dask_array[:-1], axis=0)\n",
    "    # mpd = np.maximum.reduce(dask_array[:-1])\n",
    "    with ProgressBar():\n",
    "        mp = mpd.compute()\n",
    "    plt.subplot(2, 2, 1)\n",
    "    skimage.io.imshow(mp[1])\n",
    "    plt.subplot(2, 2, 2)\n",
    "    skimage.io.imshow(skimage.filters.gaussian(mp[0], sigma=500))\n",
    "    plt.subplot(2, 2, 3)\n",
    "    skimage.io.imshow(skimage.filters.gaussian(mp[1], sigma=500))\n",
    "    plt.subplot(2, 2, 4)\n",
    "    skimage.io.imshow(skimage.filters.gaussian(mp[2], sigma=500))\n",
    "    return mp"
   ]
  },
  {
   "cell_type": "code",
   "execution_count": null,
   "id": "94157c03-4b77-4f4d-b491-6fc665dba56c",
   "metadata": {},
   "outputs": [],
   "source": [
    "flat0S = flatS(\"/home/dati/dt-clop3/data/210920/flat.tf8\")"
   ]
  },
  {
   "cell_type": "code",
   "execution_count": null,
   "id": "700916bf-da71-47f8-8a60-1b9ad8477feb",
   "metadata": {},
   "outputs": [],
   "source": [
    "store = tifffile.imread(\"/home/dati/dt-clop3/data/210920/flat.tf8\", aszarr=True)\n",
    "bias = tifffile.imread(\"/home/dati/dt-clop3/MedianBias20MHz.tif\")\n",
    "dask_array = da.block(da.from_zarr(store))\n",
    "c0 = dask_array[:, 0]\n",
    "# smooth = dask_image.ndfilters.gaussian_filter(c0, sigma=60)\n",
    "smooth = dask_image.ndfilters.gaussian_filter(dask_array, sigma=60)\n",
    "# smooth = skimage.filters.gaussian(c0, sigma=60)\n",
    "mpd = da.max(smooth, axis=0)\n",
    "with ProgressBar():\n",
    "    mp = mpd.compute()\n",
    "store.close()"
   ]
  },
  {
   "cell_type": "code",
   "execution_count": null,
   "id": "8be6caac-e55f-405b-b11c-ae382c78bf79",
   "metadata": {},
   "outputs": [],
   "source": [
    "dask_array gs\n"
   ]
  },
  {
   "cell_type": "code",
   "execution_count": null,
   "id": "f7b7c341-9421-4b49-9cd6-44ae27dfae6d",
   "metadata": {},
   "outputs": [],
   "source": [
    "skimage.io.imshow(mp)"
   ]
  },
  {
   "cell_type": "code",
   "execution_count": null,
   "id": "474c4e56-5c01-406d-be94-b8ebb51e9c83",
   "metadata": {},
   "outputs": [],
   "source": [
    "flat0 = flat(\"/home/dati/dt-clop3/data/210920/flat.tf8\")"
   ]
  },
  {
   "cell_type": "code",
   "execution_count": null,
   "id": "e2791b03-39c7-4747-ad59-142e57ba73fd",
   "metadata": {},
   "outputs": [],
   "source": [
    "skimage.io.imshow(skimage.filters.gaussian(flat0[1], sigma=400), cmap=plt.cm.Set2_r)"
   ]
  },
  {
   "cell_type": "code",
   "execution_count": null,
   "id": "91b4364d-1aca-49d8-a6e7-a31a372f6987",
   "metadata": {},
   "outputs": [],
   "source": [
    "skimage.io.imshow(skimage.filters.gaussian(flat0[1], sigma=400), cmap=plt.cm.Set2_r)"
   ]
  },
  {
   "cell_type": "code",
   "execution_count": null,
   "id": "7845fa7c-9dae-4731-a1eb-5575ba44108a",
   "metadata": {},
   "outputs": [],
   "source": [
    "tifffile.imread(\"/home/dati/\")"
   ]
  }
 ],
 "metadata": {
  "kernelspec": {
   "display_name": "Python 3 (ipykernel)",
   "language": "python",
   "name": "python3"
  },
  "language_info": {
   "codemirror_mode": {
    "name": "ipython",
    "version": 3
   },
   "file_extension": ".py",
   "mimetype": "text/x-python",
   "name": "python",
   "nbconvert_exporter": "python",
   "pygments_lexer": "ipython3",
   "version": "3.11.4"
  }
 },
 "nbformat": 4,
 "nbformat_minor": 5
}
