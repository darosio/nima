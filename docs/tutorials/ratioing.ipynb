{
 "cells": [
  {
   "cell_type": "code",
   "execution_count": null,
   "metadata": {
    "collapsed": false,
    "jupyter": {
     "outputs_hidden": false
    }
   },
   "outputs": [],
   "source": [
    "%load_ext autoreload\n",
    "%autoreload 2\n",
    "# import importlib\n",
    "# importlib.reload(nimg)\n",
    "import numpy as np\n",
    "import scipy\n",
    "import pandas as pd\n",
    "import matplotlib as mpl\n",
    "import matplotlib.pyplot as plt\n",
    "\n",
    "%matplotlib inline\n",
    "# import seaborn as sns\n",
    "# import seaborn.apionly as sns\n",
    "# seaborn.reset_orig()\n",
    "# mpl.rcParams.update(inline_rc)\n",
    "import skimage\n",
    "import skimage.transform\n",
    "from skimage import io\n",
    "import tifffile\n",
    "\n",
    "from nima import nima\n",
    "\n",
    "inline_rc = dict(mpl.rcParams)\n",
    "SHAPE = (1038, 1388)\n",
    "cm = plt.cm.inferno_r\n",
    "\n",
    "\n",
    "import skimage.segmentation"
   ]
  },
  {
   "cell_type": "markdown",
   "metadata": {},
   "source": [
    "# Pure Poisson"
   ]
  },
  {
   "cell_type": "code",
   "execution_count": null,
   "metadata": {
    "collapsed": false,
    "jupyter": {
     "outputs_hidden": false
    }
   },
   "outputs": [],
   "source": [
    "N = 100000\n",
    "\n",
    "bg1 = np.random.poisson(10, N)\n",
    "bg2 = np.random.poisson(10, N)\n",
    "bg3 = np.random.poisson(10, N)\n",
    "s1 = np.random.poisson(30, N)\n",
    "s2 = np.random.poisson(30, N)\n",
    "s3 = np.random.poisson(30, N)\n",
    "\n",
    "plt.hist(bg1, histtype=\"step\", lw=3, alpha=0.6)\n",
    "plt.hist(s1, histtype=\"step\", lw=3, alpha=0.6)\n",
    "\n",
    "plt.hist(np.sqrt(bg1 * bg2), histtype=\"step\", lw=2, alpha=0.8)\n",
    "plt.hist(np.sqrt(s1 * s2), histtype=\"step\", lw=2, alpha=0.8)\n",
    "\n",
    "plt.hist(np.power(bg1 * bg2 * bg3, 1 / 3), histtype=\"step\", lw=1.5, alpha=1)\n",
    "plt.hist(np.power(s1 * s2 * s3, 1 / 3), histtype=\"step\", lw=1.5, alpha=1)"
   ]
  },
  {
   "cell_type": "markdown",
   "metadata": {},
   "source": [
    "## power vs. average for 3 channels"
   ]
  },
  {
   "cell_type": "code",
   "execution_count": null,
   "metadata": {
    "collapsed": false,
    "jupyter": {
     "outputs_hidden": false
    }
   },
   "outputs": [],
   "source": [
    "plt.hist(np.average([bg1, bg2, bg3], axis=0), histtype=\"step\", lw=1.5, alpha=1)\n",
    "plt.hist(np.average([s1, s2, s3], axis=0), histtype=\"step\", lw=1.5, alpha=1)\n",
    "\n",
    "plt.hist(np.power(bg1 * bg2 * bg3, 1 / 3), histtype=\"step\", lw=3, alpha=1)\n",
    "plt.hist(np.power(s1 * s2 * s3, 1 / 3), histtype=\"step\", lw=3, alpha=1)"
   ]
  },
  {
   "cell_type": "code",
   "execution_count": null,
   "metadata": {
    "collapsed": false,
    "jupyter": {
     "outputs_hidden": false
    }
   },
   "outputs": [],
   "source": [
    "def hp(bg1, bg2, s1, s2, N=1000):\n",
    "    bgv1 = np.random.poisson(bg1, N)\n",
    "    bgv2 = np.random.poisson(bg2, N)\n",
    "    sv1 = np.random.poisson(s1, N)\n",
    "    sv2 = np.random.poisson(s2, N)\n",
    "    plt.figure()\n",
    "    plt.hist(np.sqrt(bgv1 * bgv2), histtype=\"step\", lw=3, alpha=0.6)\n",
    "    plt.hist(np.sqrt(sv1 * sv2), histtype=\"step\", lw=3, alpha=0.6)\n",
    "    plt.hist(np.sqrt(sv1 * bgv1), histtype=\"step\", lw=3, alpha=0.6)\n",
    "\n",
    "\n",
    "hp(10, 10, 30, 30)\n",
    "\n",
    "hp(100, 100, 300, 300)"
   ]
  },
  {
   "cell_type": "code",
   "execution_count": null,
   "metadata": {
    "collapsed": false,
    "jupyter": {
     "outputs_hidden": false
    }
   },
   "outputs": [],
   "source": [
    "hp(100, 100, 150, 150)"
   ]
  },
  {
   "cell_type": "code",
   "execution_count": null,
   "metadata": {
    "collapsed": false,
    "jupyter": {
     "outputs_hidden": false
    }
   },
   "outputs": [],
   "source": [
    "hp(10, 11, 23, 22, N=10000)"
   ]
  },
  {
   "cell_type": "markdown",
   "metadata": {},
   "source": [
    "# with images\n",
    "\n",
    "The idea is to simulate signal intensity variation with a parabola.\n",
    "\n",
    "Model is: offset + dark_current + bg + target\n",
    "\n",
    "We set offset to zero, then we have 3 poisson noises from dark_current, bg and target. But we simulate only bg and target to simplify our simulation."
   ]
  },
  {
   "cell_type": "code",
   "execution_count": null,
   "metadata": {
    "collapsed": false,
    "jupyter": {
     "outputs_hidden": false
    }
   },
   "outputs": [],
   "source": [
    "import seaborn as sns\n",
    "\n",
    "\n",
    "a = np.random.poisson(3, size=90000)\n",
    "b = np.random.poisson(7, size=90000)\n",
    "c = a + b\n",
    "d = np.random.poisson(10, size=90000)\n",
    "sns.distplot(c, fit=scipy.stats.norm)\n",
    "sns.distplot(d, fit=scipy.stats.norm)\n",
    "print(\"c\", scipy.stats.normaltest(c))\n",
    "print(\"d\", scipy.stats.normaltest(d))\n",
    "\n",
    "plt.figure()\n",
    "g = scipy.stats.probplot(c, plot=plt, dist=\"poisson\", sparams=(10))"
   ]
  },
  {
   "cell_type": "markdown",
   "metadata": {},
   "source": [
    "## with N >= 10000 Poissonian == Gaussian for 90000 values (pixels)"
   ]
  },
  {
   "cell_type": "code",
   "execution_count": null,
   "metadata": {
    "collapsed": false,
    "jupyter": {
     "outputs_hidden": false
    }
   },
   "outputs": [],
   "source": [
    "a = (\n",
    "    skimage.util.random_noise(\n",
    "        1000 * np.ones((300, 300)).astype(float), mode=\"poisson\", clip=False\n",
    "    )\n",
    "    / 1000\n",
    ")\n",
    "print(\"N =  1000\", scipy.stats.normaltest(a.ravel()))\n",
    "a = (\n",
    "    skimage.util.random_noise(\n",
    "        5000 * np.ones((300, 300)).astype(float), mode=\"poisson\", clip=False\n",
    "    )\n",
    "    / 1000\n",
    ")\n",
    "print(\"N =  5000\", scipy.stats.normaltest(a.ravel()))\n",
    "a = (\n",
    "    skimage.util.random_noise(\n",
    "        10000 * np.ones((300, 300)).astype(float), mode=\"poisson\", clip=False\n",
    "    )\n",
    "    / 1000\n",
    ")\n",
    "print(\"N = 10000\", scipy.stats.normaltest(a.ravel()))"
   ]
  },
  {
   "cell_type": "code",
   "execution_count": null,
   "metadata": {
    "collapsed": false,
    "jupyter": {
     "outputs_hidden": false
    }
   },
   "outputs": [],
   "source": [
    "def parabola(x, bl, s, f=1):\n",
    "    D = f * s + bl + s\n",
    "    x_i = x[0]\n",
    "    x_m = np.median(x)\n",
    "    a = -f * s / (x_i - x_m) ** 2\n",
    "    b = -2 * a * x_m\n",
    "    c = D + a * x_m**2\n",
    "    y = a * x**2 + b * x + c\n",
    "    return y\n",
    "\n",
    "\n",
    "x = np.arange(-6, 16)\n",
    "plt.plot(x[3:-3], parabola(x[3:-3], 1, 10, f=0.1), \"-v\")\n",
    "plt.grid()"
   ]
  },
  {
   "cell_type": "code",
   "execution_count": null,
   "metadata": {
    "collapsed": false,
    "jupyter": {
     "outputs_hidden": false
    }
   },
   "outputs": [],
   "source": [
    "def parabola_2d(im, bl, s, f=1):\n",
    "    x, y = np.indices(im.shape)\n",
    "    D = f * s + bl + s\n",
    "    x_i = x[0, 0]\n",
    "    y_i = y[0, 0]\n",
    "    x_m = np.median(x[:, 0])\n",
    "    y_m = np.median(y[0, :])\n",
    "    ax = -f * s / (x_i - x_m) ** 2\n",
    "    ay = -f * s / (y_i - y_m) ** 2\n",
    "    bx = -2 * ax * x_m\n",
    "    by = -2 * ay * y_m\n",
    "    cx = D + ax * x_m**2\n",
    "    cy = D + ay * y_m**2\n",
    "    z = ax * x**2 + ay * y**2 + bx * x + by * y + cx / 2 + cy / 2\n",
    "    return z\n",
    "\n",
    "\n",
    "im = np.ones((11, 11))\n",
    "bg = 2\n",
    "z1 = parabola_2d(im[3:-3, 2:-2], bg, 1, f=0.2)\n",
    "skimage.io.imshow(z1)\n",
    "z1.shape\n",
    "plt.figure()\n",
    "plt.plot(z1[int(z1.shape[0] / 2), :])\n",
    "plt.plot(z1[0, :], \"--\")\n",
    "plt.plot(z1[:, int(z1.shape[1] / 2)])\n",
    "# plt.figure()\n",
    "# mask = z>11.3\n",
    "# skimage.io.imshow(mask)\n",
    "\n",
    "z2 = parabola_2d(im[3:-3, 2:-2], bg, 2, f=0.2)\n",
    "(z2 - bg) / (z1 - bg)"
   ]
  },
  {
   "cell_type": "code",
   "execution_count": null,
   "metadata": {
    "collapsed": false,
    "jupyter": {
     "outputs_hidden": false
    }
   },
   "outputs": [],
   "source": [
    "# new simulator 1D\n",
    "def sim1d(bl=1, s=1, s_var=1, f=10, gain=10, shape=50, idx_mask=[6, -6]):\n",
    "    x = np.arange(shape)\n",
    "    y = np.ones_like(x).astype(float)\n",
    "    m = np.zeros_like(x).astype(bool)\n",
    "    m[idx_mask[0] : idx_mask[1]] = True\n",
    "    # first bg (skyglow) noise in all the image vs. ##y[~m] = bl\n",
    "    y = (\n",
    "        skimage.util.random_noise(\n",
    "            bl * gain * np.ones_like(x).astype(float), mode=\"poisson\", clip=False\n",
    "        ).clip(0)\n",
    "        / gain\n",
    "    )\n",
    "    y[m] += parabola(x[m], bl=0, s=s, f=f)\n",
    "    # plus other noise drom the target\n",
    "    y[m] = (\n",
    "        skimage.util.random_noise(gain * y.astype(float), mode=\"poisson\", clip=False)[\n",
    "            m\n",
    "        ].clip(0)\n",
    "        / gain\n",
    "    )\n",
    "    return x, y, m\n",
    "\n",
    "\n",
    "plt.figure(figsize=(12, 4))\n",
    "plt.subplot(121)\n",
    "x, y, m = sim1d(gain=1, s=22, f=0.5)\n",
    "plt.plot(x, y, \"ok\")\n",
    "x2, y2, m2 = sim1d(gain=1, s=44, f=0.5)\n",
    "plt.plot(x2, y2, \"ob\")\n",
    "plt.subplot(122)\n",
    "bl = 1\n",
    "ratio = (y2[m] - bl) / (y[m] - bl)\n",
    "plt.plot(x[m], ratio)\n",
    "plt.plot(x[m], pd.rolling_median(ratio, 15, center=True), lw=2)\n",
    "plt.plot(x[m], pd.rolling_mean(ratio, 15, center=True), \"--\", lw=2)\n",
    "scipy.stats.normaltest(ratio)"
   ]
  },
  {
   "cell_type": "code",
   "execution_count": null,
   "metadata": {
    "collapsed": false,
    "jupyter": {
     "outputs_hidden": false
    }
   },
   "outputs": [],
   "source": [
    "# new simulator 2D\n",
    "def sim_2d(bl=1, s=1, s_var=1, f=1, gain=10, shape=(7, 7), idx_mask=[1, -1, 1, -1]):\n",
    "    im = np.ones(shape).astype(float)\n",
    "    ###y = np.ones_like(x).astype(float)\n",
    "    m = np.zeros_like(im).astype(bool)\n",
    "    m[idx_mask[0] : idx_mask[1], idx_mask[2] : idx_mask[3]] = True\n",
    "    # first bg (skyglow) noise in all the image vs. ##y[~m] = bl\n",
    "    im = (\n",
    "        skimage.util.random_noise(\n",
    "            bl * gain * np.ones_like(im).astype(float), mode=\"poisson\", clip=False\n",
    "        ).clip(0)\n",
    "        / gain\n",
    "    )\n",
    "    # TODO: usare una maschera arbitraria senza conversion 2d -> 1d\n",
    "    im[idx_mask[0] : idx_mask[1], idx_mask[2] : idx_mask[3]] += parabola_2d(\n",
    "        im[idx_mask[0] : idx_mask[1], idx_mask[2] : idx_mask[3]], bl=0, s=s, f=f\n",
    "    )\n",
    "    # plus other noise drom the target\n",
    "    im[idx_mask[0] : idx_mask[1], idx_mask[2] : idx_mask[3]] = (\n",
    "        skimage.util.random_noise(\n",
    "            gain\n",
    "            * im[idx_mask[0] : idx_mask[1], idx_mask[2] : idx_mask[3]].astype(float),\n",
    "            mode=\"poisson\",\n",
    "            clip=False,\n",
    "        ).clip(0)\n",
    "        / gain\n",
    "    )\n",
    "    return im, m\n",
    "\n",
    "\n",
    "bg = 5\n",
    "im1, m1 = sim_2d(\n",
    "    shape=(1000, 2000), idx_mask=[200, -600, 500, -300], s=4, gain=1, f=5, bl=bg\n",
    ")\n",
    "im2, m2 = sim_2d(\n",
    "    shape=(1000, 2000), idx_mask=[200, -600, 500, -300], s=8, gain=1, f=5, bl=bg\n",
    ")\n",
    "\n",
    "ratio = (im2 * m2 - bg) / (im1 * m1 - bg)\n",
    "plt.figure(figsize=(14, 6))\n",
    "plt.subplot(131)\n",
    "io.imshow(ratio)\n",
    "plt.subplot(132)\n",
    "ratio_median = scipy.ndimage.filters.median_filter(ratio, 5)\n",
    "io.imshow(ratio_median)\n",
    "\n",
    "plt.subplot(133)\n",
    "nimg.nimg.myhist(ratio[m1], log=1)\n",
    "nimg.nimg.myhist(ratio_median[m1], log=1)\n",
    "\n",
    "axins = plt.axes([0.14, 0.11, 0.28, 0.3])\n",
    "plt.plot(ratio[300, 500:-300], lw=0.2)\n",
    "plt.plot(ratio_median[300, 500:-300])\n",
    "axins2 = plt.axes([0.42, 0.11, 0.08, 0.3])\n",
    "plt.hist(ratio[300, 500:-300], alpha=0.6, orientation=\"horizontal\", bins=50)\n",
    "axins2.set_ylim(axins.get_ylim())\n",
    "axins2.set_yticks([])\n",
    "axins3 = plt.axes([0.50, 0.11, 0.08, 0.3])\n",
    "plt.hist(ratio_median[300, 500:-300], alpha=0.6, orientation=\"horizontal\", bins=50)\n",
    "axins3.set_ylim(axins.get_ylim())\n",
    "axins3.set_yticks([])\n",
    "\n",
    "print(scipy.stats.normaltest(ratio[m1]))\n",
    "print(scipy.stats.normaltest(ratio_median[m1]))\n",
    "print(scipy.stats.normaltest(ratio_median[300, 500:-300]))\n",
    "axins4 = plt.axes([0.4, 0.66, 0.08, 0.22])\n",
    "scipy.stats.probplot(ratio[m1], plot=axins4)\n",
    "axins5 = plt.axes([0.5, 0.66, 0.08, 0.22])\n",
    "scipy.stats.probplot(ratio_median[m1], plot=axins5)\n",
    "\n",
    "\n",
    "im1 = (im1 - bg).clip(0)\n",
    "im2 = (im2 - bg).clip(0)"
   ]
  },
  {
   "cell_type": "markdown",
   "metadata": {},
   "source": [
    "qui voglio simulare fret e bt:\n",
    "$$\n",
    "    S^{561} = R \\\\\n",
    "    S^{488} = G (1 - E) + R (\\alpha + E) \\\\\n",
    "    S^{458} = C (1 - E) + R (\\beta + E)\n",
    "$$"
   ]
  },
  {
   "cell_type": "code",
   "execution_count": null,
   "metadata": {
    "collapsed": false,
    "jupyter": {
     "outputs_hidden": false
    }
   },
   "outputs": [],
   "source": [
    "im1, m1 = sim_2d(shape=(100, 200), idx_mask=[20, -20, 30, -30], s=2, gain=1, f=5, bl=bg)\n",
    "im2, m2 = sim_2d(shape=(100, 200), idx_mask=[20, -20, 30, -30], s=4, gain=1, f=5, bl=bg)\n",
    "N = im1[20:-20, 30:-30] - 5\n",
    "D = im2[20:-20, 30:-30] - 5\n",
    "tifffile.imshow(N / D)\n",
    "fm = nimg.im_median(N / D, radius=5)\n",
    "tifffile.imshow(fm)\n",
    "nimg.nimg.myhist(fm, nf=1, log=1)"
   ]
  },
  {
   "cell_type": "markdown",
   "metadata": {},
   "source": [
    "Note that the ratio (either filtered or not filtered) is not distributed according to a gaussian; there are remarkable differences on the tails as can be easily noted in the q-q plot.\n",
    "\n",
    "## Testing segmentation pipeline"
   ]
  },
  {
   "cell_type": "code",
   "execution_count": null,
   "metadata": {
    "collapsed": false,
    "jupyter": {
     "outputs_hidden": false
    }
   },
   "outputs": [],
   "source": [
    "nimg.myhist(im1)\n",
    "nimg.myhist(im2)\n",
    "ga = np.sqrt(im1 * im2)  # can be negative\n",
    "aa = (im1 + im2) / 2\n",
    "nimg.myhist(ga)\n",
    "nimg.myhist(aa, log=True)\n",
    "plt.legend([\"1\", \"2\", \"g.a.\", \"a.a.\"])\n",
    "\n",
    "\n",
    "plt.figure(figsize=(16, 8))\n",
    "plt.subplot(151)\n",
    "thr = skimage.filters.threshold_li(im1.copy())\n",
    "mm = im1 > thr\n",
    "mm1 = mm\n",
    "mmtmp = scipy.ndimage.binary_erosion(mm)\n",
    "mm = scipy.ndimage.binary_propagation(mmtmp, mask=mm)\n",
    "# mm = skimage.morphology.opening(mm)  # opening\n",
    "mm = skimage.morphology.closing(mm)\n",
    "plt.imshow(mm)\n",
    "plt.contour(m1)\n",
    "plt.title(\"im: \" + str((m1 - mm).sum()))\n",
    "\n",
    "plt.subplot(152)\n",
    "thr = skimage.filters.threshold_li(im2.copy())\n",
    "mm = im2 > thr\n",
    "mm2 = mm\n",
    "mmtmp = scipy.ndimage.binary_erosion(mm)\n",
    "mm = scipy.ndimage.binary_propagation(mmtmp, mask=mm)\n",
    "# mm = skimage.morphology.opening(mm)  # opening\n",
    "mm = skimage.morphology.closing(mm)\n",
    "plt.imshow(mm)\n",
    "plt.contour(m1)\n",
    "plt.title(\"im2: \" + str((m1 - mm).sum()))\n",
    "\n",
    "plt.subplot(153)\n",
    "thr = skimage.filters.threshold_li(ga.copy())\n",
    "mm = ga > thr\n",
    "mmtmp = scipy.ndimage.binary_erosion(mm)\n",
    "mm = scipy.ndimage.binary_propagation(mmtmp, mask=mm)\n",
    "# mm = skimage.morphology.opening(mm)  # opening\n",
    "mm = skimage.morphology.closing(mm)\n",
    "m3 = mm\n",
    "plt.imshow(mm)\n",
    "plt.contour(m1)\n",
    "plt.title(\"ga: \" + str((m1 - mm).sum()))\n",
    "\n",
    "plt.subplot(154)\n",
    "thr = skimage.filters.threshold_li(aa.copy())\n",
    "mm = aa > thr\n",
    "mmtmp = scipy.ndimage.binary_erosion(mm)\n",
    "mm = scipy.ndimage.binary_propagation(mmtmp, mask=mm)\n",
    "# mm = skimage.morphology.opening(mm)  # opening\n",
    "mm = skimage.morphology.closing(mm)\n",
    "plt.imshow(mm)\n",
    "plt.contour(m1)\n",
    "plt.title(\"aa: \" + str((m1 - mm).sum()))\n",
    "\n",
    "plt.subplot(155)\n",
    "mm = mm1 & mm2\n",
    "mmtmp = scipy.ndimage.binary_erosion(mm)\n",
    "mm = scipy.ndimage.binary_propagation(mmtmp, mask=mm)\n",
    "# mm = skimage.morphology.opening(mm)  # opening\n",
    "mm = skimage.morphology.closing(mm)\n",
    "plt.imshow(mm)\n",
    "plt.contour(m1)\n",
    "plt.title(\"1U2: \" + str((m1 - mm).sum()))\n",
    "\n",
    "plt.figure()\n",
    "plt.imshow(m3)"
   ]
  },
  {
   "cell_type": "markdown",
   "metadata": {},
   "source": [
    "Before moving to the 3-channel simulation. No doubt, the first opening (or erosion-propagation) is really necessary to remove false positive pixels in the bg. Then the results strongly depends on the bl value, the signal value, the gain, (maybe less on the *f*). It happened that the single image with the best s/n ratio was the best predictor.\n",
    "\n",
    "With the final binary closing, however, the geometric average seems the best way to perform segmentation.\n",
    "\n",
    "I will probably test with few other ideas like CC.\n",
    "\n",
    "Note: remove small objects seems equivalent to erosion-propagation and better then just opening.\n",
    "\n",
    "\n",
    "## with 3 channels"
   ]
  },
  {
   "cell_type": "code",
   "execution_count": null,
   "metadata": {
    "collapsed": false,
    "jupyter": {
     "outputs_hidden": false
    }
   },
   "outputs": [],
   "source": [
    "bg = 5\n",
    "im1, m1 = sim_2d(\n",
    "    shape=(1000, 2000), idx_mask=[200, -600, 500, -300], s=4, gain=1, f=5, bl=bg\n",
    ")\n",
    "im2, m2 = sim_2d(\n",
    "    shape=(1000, 2000), idx_mask=[200, -600, 500, -300], s=8, gain=1, f=5, bl=bg\n",
    ")\n",
    "im3, m3 = sim_2d(\n",
    "    shape=(1000, 2000), idx_mask=[200, -600, 500, -300], s=6, gain=1, f=5, bl=bg\n",
    ")\n",
    "im1 = (im1 - bg).clip(0)\n",
    "im2 = (im2 - bg).clip(0)\n",
    "im3 = (im3 - bg).clip(0)"
   ]
  },
  {
   "cell_type": "code",
   "execution_count": null,
   "metadata": {
    "collapsed": false,
    "jupyter": {
     "outputs_hidden": false
    }
   },
   "outputs": [],
   "source": [
    "nimg.myhist(im1)\n",
    "nimg.myhist(im2)\n",
    "nimg.myhist(im3)\n",
    "ga = np.power(im1 * im2 * im3, 1 / 3)  # can be negative\n",
    "aa = (im1 + im2 + im3) / 3\n",
    "nimg.myhist(ga)\n",
    "nimg.myhist(aa, log=True)\n",
    "plt.legend([\"1\", \"2\", \"3\", \"g.a.\", \"a.a.\"])\n",
    "thr = skimage.filters.threshold_li(im3.copy())\n",
    "mm = im3 > thr\n",
    "mm3 = mm\n",
    "\n",
    "plt.figure(figsize=(16, 8))\n",
    "plt.subplot(151)\n",
    "thr = skimage.filters.threshold_li(im1.copy())\n",
    "mm = im1 > thr\n",
    "mm1 = mm\n",
    "mmtmp = scipy.ndimage.binary_erosion(mm)\n",
    "mm = scipy.ndimage.binary_propagation(mmtmp, mask=mm)\n",
    "# mm = skimage.morphology.opening(mm)  # opening\n",
    "mm = skimage.morphology.closing(mm)\n",
    "plt.imshow(mm)\n",
    "plt.contour(m1)\n",
    "plt.title(\"im: \" + str((m1 - mm).sum()))\n",
    "\n",
    "plt.subplot(152)\n",
    "thr = skimage.filters.threshold_li(im2.copy())\n",
    "mm = im2 > thr\n",
    "mm2 = mm\n",
    "mmtmp = scipy.ndimage.binary_erosion(mm)\n",
    "mm = scipy.ndimage.binary_propagation(mmtmp, mask=mm)\n",
    "# mm = skimage.morphology.opening(mm)  # opening\n",
    "mm = skimage.morphology.closing(mm)\n",
    "plt.imshow(mm)\n",
    "plt.contour(m1)\n",
    "plt.title(\"im2: \" + str((m1 - mm).sum()))\n",
    "\n",
    "plt.subplot(153)\n",
    "thr = skimage.filters.threshold_li(ga.copy())\n",
    "mm = ga > thr\n",
    "mmtmp = scipy.ndimage.binary_erosion(mm)\n",
    "mm = scipy.ndimage.binary_propagation(mmtmp, mask=mm)\n",
    "##mm = skimage.morphology.remove_small_objects(mm)\n",
    "# mm = skimage.morphology.opening(mm)  # opening\n",
    "mm = skimage.morphology.closing(mm)\n",
    "m3 = mm\n",
    "plt.imshow(mm)\n",
    "plt.contour(m1)\n",
    "plt.title(\"ga: \" + str((m1 - mm).sum()))\n",
    "\n",
    "plt.subplot(154)\n",
    "thr = skimage.filters.threshold_li(aa.copy())\n",
    "mm = aa > thr\n",
    "mmtmp = scipy.ndimage.binary_erosion(mm)\n",
    "mm = scipy.ndimage.binary_propagation(mmtmp, mask=mm)\n",
    "# mm = skimage.morphology.opening(mm)  # opening\n",
    "mm = skimage.morphology.closing(mm)\n",
    "plt.imshow(mm)\n",
    "plt.contour(m1)\n",
    "plt.title(\"aa: \" + str((m1 - mm).sum()))\n",
    "\n",
    "plt.subplot(155)\n",
    "mm = mm1 | mm2 | mm3\n",
    "mm = skimage.morphology.remove_small_objects(mm)\n",
    "##mmtmp = scipy.ndimage.binary_erosion(mm)\n",
    "##mm = scipy.ndimage.binary_propagation(mmtmp, mask=mm)\n",
    "# mm = skimage.morphology.opening(mm)  # opening\n",
    "mm = skimage.morphology.closing(mm)\n",
    "plt.imshow(mm)\n",
    "plt.contour(m1)\n",
    "plt.title(\"1U2: \" + str((m1 - mm).sum()))\n",
    "\n",
    "plt.figure()\n",
    "plt.imshow(m3)"
   ]
  },
  {
   "cell_type": "markdown",
   "metadata": {},
   "source": [
    "## target segmentation pipeline\n",
    "\n",
    "* geometric average of ch1, ch2, ch3, ... (after bg subtraction)\n",
    "* binary erosion-propagation (or remove_small_object)\n",
    "* binary closing (remove small_holes is not present in this moment)\n",
    "\n",
    "\n",
    "construction of synthetic data:\n",
    "\n",
    "it is 3D object, intensity level in each voxel, convolution with microscope PSF, then add error.\n",
    "\n",
    "But so shot noise from one plane only will be added rather than shot noise from the planes above and below. Maybe the use of higher noise for a given plane is equivalent to the sum of noises coming from each individual plane?"
   ]
  },
  {
   "cell_type": "code",
   "execution_count": null,
   "metadata": {
    "collapsed": false,
    "jupyter": {
     "outputs_hidden": false
    }
   },
   "outputs": [],
   "source": [
    "offset = 50\n",
    "bg = 10\n",
    "\n",
    "x, y = np.indices((50, 50))\n",
    "m = (x - 25) ** 2 + (y - 25) ** 2\n",
    "\n",
    "# mask\n",
    "im = -m\n",
    "m = m <= 400\n",
    "plt.figure(figsize=(12, 5))\n",
    "plt.subplot(151)\n",
    "skimage.io.imshow(m, cmap=plt.cm.inferno_r)\n",
    "# bg poisson error\n",
    "im = im.astype(float)\n",
    "im += np.abs(im[m].min()) + offset\n",
    "im[~m] = skimage.util.random_noise(\n",
    "    10 * np.ones_like(im).astype(float), mode=\"poisson\", clip=False\n",
    ")[~m]\n",
    "im2 = im * 2\n",
    "plt.subplot(152)\n",
    "skimage.io.imshow(im2, cmap=plt.cm.inferno_r)\n",
    "# fg gauss error\n",
    "im2[m] += skimage.util.random_noise(\n",
    "    np.zeros_like(im2).astype(\"float64\"), mode=\"gaussian\", var=200, clip=False\n",
    ")[m]\n",
    "im[m] += skimage.util.random_noise(\n",
    "    np.zeros_like(im2).astype(\"float64\"), mode=\"gaussian\", var=100, clip=False\n",
    ")[m]\n",
    "plt.subplot(153)\n",
    "skimage.io.imshow(im2, cmap=plt.cm.inferno_r)\n",
    "plt.subplot(154)\n",
    "plt.plot(im[25, :], \"o\")\n",
    "plt.plot(im2[25, :])\n",
    "plt.yscale(\"log\")\n",
    "\n",
    "plt.subplot(155)\n",
    "r = im2 / im\n",
    "plt.plot(r[25, :])"
   ]
  },
  {
   "cell_type": "code",
   "execution_count": null,
   "metadata": {
    "collapsed": false,
    "jupyter": {
     "outputs_hidden": false
    }
   },
   "outputs": [],
   "source": [
    "plt.imshow(m - mm)\n",
    "m.sum() - mm.sum(),"
   ]
  },
  {
   "cell_type": "code",
   "execution_count": null,
   "metadata": {
    "collapsed": false,
    "jupyter": {
     "outputs_hidden": false
    }
   },
   "outputs": [],
   "source": [
    "from scipy.ndimage.filters import correlate as ic\n",
    "\n",
    "x = numpy.array(N)\n",
    "hist(ic(s1, b3)), hist(ic(s1, s3)), hist(ic(b1, b3)),"
   ]
  }
 ],
 "metadata": {
  "kernelspec": {
   "display_name": "Python 3 (ipykernel)",
   "language": "python",
   "name": "python3"
  },
  "language_info": {
   "codemirror_mode": {
    "name": "ipython",
    "version": 3
   },
   "file_extension": ".py",
   "mimetype": "text/x-python",
   "name": "python",
   "nbconvert_exporter": "python",
   "pygments_lexer": "ipython3",
   "version": "3.11.4"
  }
 },
 "nbformat": 4,
 "nbformat_minor": 4
}
