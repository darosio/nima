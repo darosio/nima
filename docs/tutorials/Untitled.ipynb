{
 "cells": [
  {
   "cell_type": "code",
   "execution_count": null,
   "id": "13a46fe0-9685-4548-87cb-06f755ce6f8a",
   "metadata": {},
   "outputs": [],
   "source": [
    "import matplotlib.pyplot as plt\n",
    "from skimage.morphology import disk\n",
    "import skimage\n",
    "import tifffile\n",
    "\n",
    "from nima import nima\n",
    "\n",
    "%load_ext autoreload\n",
    "%autoreload 2"
   ]
  },
  {
   "cell_type": "code",
   "execution_count": null,
   "id": "173cbd4b-a604-4fb4-99ca-f7fda70bc6b8",
   "metadata": {},
   "outputs": [],
   "source": [
    "dim = nima.read_tiff(\"./tests/data/1b_c16_15.tif\", [\"C\", \"G\", \"R\"])"
   ]
  },
  {
   "cell_type": "code",
   "execution_count": null,
   "id": "ff095fb4-82e1-45ec-966f-e55be866dd0d",
   "metadata": {},
   "outputs": [],
   "source": [
    "r = nima.d_bg(dim[0])"
   ]
  },
  {
   "cell_type": "code",
   "execution_count": null,
   "id": "c5800ffc-246f-4c23-9104-0035d05c28e5",
   "metadata": {},
   "outputs": [],
   "source": [
    "r[1][\"C\"]"
   ]
  },
  {
   "cell_type": "code",
   "execution_count": null,
   "id": "d48e5593-30e1-426a-8da0-480f91e91b06",
   "metadata": {},
   "outputs": [],
   "source": [
    "c0 = dim[0][\"C\"][0]\n",
    "g0 = dim[0][\"G\"][0]\n",
    "r0 = dim[0][\"R\"][0]\n",
    "tifffile.imshow(1 / c0 / c0)"
   ]
  },
  {
   "cell_type": "code",
   "execution_count": null,
   "id": "e788bb6c-68aa-4ac3-8cef-9a7468a99fc6",
   "metadata": {},
   "outputs": [],
   "source": [
    "plt.plot(r0[100, :100])\n",
    "plt.grid()\n",
    "r0[100, :100].mean()"
   ]
  },
  {
   "cell_type": "code",
   "execution_count": null,
   "id": "7b624e3e-d07f-449c-88f6-92fef190491f",
   "metadata": {},
   "outputs": [],
   "source": []
  },
  {
   "cell_type": "code",
   "execution_count": null,
   "id": "af3023db-919c-4872-867e-ac719fbfff49",
   "metadata": {},
   "outputs": [],
   "source": [
    "lim = skimage.filters.rank.entropy(c0, disk(10))"
   ]
  },
  {
   "cell_type": "code",
   "execution_count": null,
   "id": "73d749a1-718a-4d63-941d-93a7f641d5a1",
   "metadata": {},
   "outputs": [],
   "source": [
    "im8 = skimage.util.img_as_ubyte(c0)\n",
    "lim8 = skimage.filters.rank.entropy(im8, disk(20))"
   ]
  },
  {
   "cell_type": "code",
   "execution_count": null,
   "id": "1ec01d13-b817-4d4c-99e0-f4bca749cec2",
   "metadata": {},
   "outputs": [],
   "source": [
    "c0[(lim8 < 2.66)].mean()"
   ]
  },
  {
   "cell_type": "code",
   "execution_count": null,
   "id": "44f8da83-a83c-473b-b3b0-ad7848f1c3b9",
   "metadata": {},
   "outputs": [],
   "source": [
    "tifffile.imshow(skimage.morphology.binary_closing(rr[0][\"C\"][0] < 1))"
   ]
  },
  {
   "cell_type": "code",
   "execution_count": null,
   "id": "e4577f97-4899-423c-a6e5-cc74a712dd99",
   "metadata": {},
   "outputs": [],
   "source": [
    "rr[2][\"G\"][3][0]"
   ]
  },
  {
   "cell_type": "code",
   "execution_count": null,
   "id": "97add3cf-0b3e-4df2-b5a9-942e2a2c2ec7",
   "metadata": {},
   "outputs": [],
   "source": [
    "rr = nima.d_bg(dim[0], kind=\"inverse_local_yen\")"
   ]
  },
  {
   "cell_type": "code",
   "execution_count": null,
   "id": "850657f7-3ee1-49b7-9555-61eb3ae800f3",
   "metadata": {},
   "outputs": [],
   "source": [
    "rr[1]"
   ]
  },
  {
   "cell_type": "code",
   "execution_count": null,
   "id": "b3154469-af8f-4491-ac00-f58a6e392a16",
   "metadata": {},
   "outputs": [],
   "source": [
    "r[1]"
   ]
  },
  {
   "cell_type": "code",
   "execution_count": null,
   "id": "f10eea9a-063a-4366-bd02-fb6f1c4f69c3",
   "metadata": {},
   "outputs": [],
   "source": [
    "d_bg = nima.d_bg(dim[0], kind=\"inverse_local_yen\")[0]"
   ]
  },
  {
   "cell_type": "code",
   "execution_count": null,
   "id": "dff2e76b-8b96-47cb-9ce2-62e5e86c7152",
   "metadata": {},
   "outputs": [],
   "source": [
    "nima.d_ratio(d_bg)"
   ]
  },
  {
   "cell_type": "code",
   "execution_count": null,
   "id": "10191256-982b-4dbe-b0af-1d746eda0a57",
   "metadata": {},
   "outputs": [],
   "source": [
    "background_channel1 = skimage.restoration.rolling_ball(c0, radius=160)"
   ]
  },
  {
   "cell_type": "code",
   "execution_count": null,
   "id": "2d926297-4560-4db9-9ba2-98e540953101",
   "metadata": {},
   "outputs": [],
   "source": [
    "tifffile.imshow(background_channel1)"
   ]
  }
 ],
 "metadata": {
  "kernelspec": {
   "display_name": "Python 3 (ipykernel)",
   "language": "python",
   "name": "python3"
  },
  "language_info": {
   "codemirror_mode": {
    "name": "ipython",
    "version": 3
   },
   "file_extension": ".py",
   "mimetype": "text/x-python",
   "name": "python",
   "nbconvert_exporter": "python",
   "pygments_lexer": "ipython3",
   "version": "3.11.4"
  }
 },
 "nbformat": 4,
 "nbformat_minor": 5
}
