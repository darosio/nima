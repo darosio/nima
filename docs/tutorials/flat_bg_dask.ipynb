{
 "cells": [
  {
   "cell_type": "code",
   "execution_count": null,
   "id": "fce126a4",
   "metadata": {},
   "outputs": [],
   "source": [
    "import numpy as np\n",
    "import matplotlib.pyplot as plt\n",
    "import tifffile as tff\n",
    "import scipy\n",
    "from scipy import ndimage\n",
    "\n",
    "import dask.array as da\n",
    "import dask_image\n",
    "from dask_image import ndfilters\n",
    "from dask_image import ndmorph\n",
    "\n",
    "from nima import nima\n",
    "\n",
    "import skimage\n",
    "import skimage.io\n",
    "import skimage.filters\n",
    "import zarr\n",
    "\n",
    "from nima import utils\n",
    "\n",
    "%load_ext autoreload\n",
    "%autoreload 2\n",
    "\n",
    "store = tff.imread(\"/home/dati/dt-clop3/data/210920/flatxy.tf8\", aszarr=True)\n",
    "\n",
    "zc1a = zarr.open(store)\n",
    "zc1a.info"
   ]
  },
  {
   "cell_type": "code",
   "execution_count": null,
   "id": "18c82e3d",
   "metadata": {},
   "outputs": [],
   "source": [
    "dd = da.from_zarr(store)\n",
    "dd"
   ]
  },
  {
   "cell_type": "code",
   "execution_count": null,
   "id": "59f2b3af",
   "metadata": {},
   "outputs": [],
   "source": [
    "img = dd[0, 0]\n",
    "plt.imshow(img, vmax=60)"
   ]
  },
  {
   "cell_type": "code",
   "execution_count": null,
   "id": "327fccf3",
   "metadata": {
    "tags": []
   },
   "outputs": [],
   "source": [
    "bg, bgs, bgfigs = nima.bg(img.compute())"
   ]
  },
  {
   "cell_type": "code",
   "execution_count": null,
   "id": "c9cf8b48",
   "metadata": {},
   "outputs": [],
   "source": [
    "bg, utils.bg(img.compute())"
   ]
  },
  {
   "cell_type": "code",
   "execution_count": null,
   "id": "135cce78",
   "metadata": {},
   "outputs": [],
   "source": [
    "pp = da.mean(\n",
    "    dask_image.ndfilters.maximum_filter(dd[0:4000:20, 0], size=(100, 1, 1)), axis=0\n",
    ")"
   ]
  },
  {
   "cell_type": "code",
   "execution_count": null,
   "id": "70ae847c",
   "metadata": {},
   "outputs": [],
   "source": [
    "ppp = pp.compute()\n",
    "\n",
    "plt.imshow(skimage.filters.gaussian(ppp, 100))"
   ]
  },
  {
   "cell_type": "code",
   "execution_count": null,
   "id": "82524ece",
   "metadata": {},
   "outputs": [],
   "source": [
    "m = img < skimage.filters.threshold_mean(img)\n",
    "skimage.filters.threshold_mean((img * m).clip(np.min(img))).compute()"
   ]
  },
  {
   "cell_type": "code",
   "execution_count": null,
   "id": "0278c953",
   "metadata": {},
   "outputs": [],
   "source": [
    "plt.imshow(img < skimage.filters.threshold_triangle(img))"
   ]
  },
  {
   "cell_type": "code",
   "execution_count": null,
   "id": "b717b594",
   "metadata": {},
   "outputs": [],
   "source": [
    "from dask_image import ndmorph\n",
    "\n",
    "\n",
    "def dabg(di):\n",
    "    m = di < skimage.filters.threshold_mean(di)\n",
    "    m1 = di < skimage.filters.threshold_mean((di * m).clip(np.min(di)))\n",
    "    m2 = ndmorph.binary_dilation(~m1)\n",
    "    return da.ma.masked_array(di, mask=~m1)"
   ]
  },
  {
   "cell_type": "code",
   "execution_count": null,
   "id": "192a1a44",
   "metadata": {},
   "outputs": [],
   "source": [
    "def bg(im):\n",
    "    m = im < skimage.filters.threshold_mean(im)\n",
    "    m1 = im < skimage.filters.threshold_mean((im * m).clip(np.min(im)))\n",
    "    m2 = skimage.morphology.binary_dilation(~m1, footprint=np.ones([1, 1]))\n",
    "    # m2 = im < skimage.filters.threshold_triangle(np.ma.masked_array(im, mask=~m))\n",
    "    return np.ma.masked_array(im, mask=m2)"
   ]
  },
  {
   "cell_type": "code",
   "execution_count": null,
   "id": "a721c405",
   "metadata": {},
   "outputs": [],
   "source": [
    "dabg(img).compute()"
   ]
  },
  {
   "cell_type": "code",
   "execution_count": null,
   "id": "cd82b23d",
   "metadata": {},
   "outputs": [],
   "source": [
    "flat = np.ma.mean(dabg(dd[333:500:1, 0]).compute(), axis=0)"
   ]
  },
  {
   "cell_type": "code",
   "execution_count": null,
   "id": "d000c58d",
   "metadata": {},
   "outputs": [],
   "source": [
    "plt.imshow(flat)"
   ]
  },
  {
   "cell_type": "markdown",
   "id": "12a13285",
   "metadata": {},
   "source": [
    "### threshold mean clipping to min()"
   ]
  },
  {
   "cell_type": "code",
   "execution_count": null,
   "id": "7a010633",
   "metadata": {},
   "outputs": [],
   "source": [
    "tff.imshow(bg(dd[0, 0]))"
   ]
  },
  {
   "cell_type": "code",
   "execution_count": null,
   "id": "459199ab",
   "metadata": {},
   "outputs": [],
   "source": [
    "plt.hist(bg(img).ravel())"
   ]
  },
  {
   "cell_type": "code",
   "execution_count": null,
   "id": "f833df46",
   "metadata": {},
   "outputs": [],
   "source": [
    "[np.ma.median(bg(dd[i, 0])) for i in range(10)]"
   ]
  },
  {
   "cell_type": "code",
   "execution_count": null,
   "id": "38c9290e",
   "metadata": {},
   "outputs": [],
   "source": [
    "%%time\n",
    "utils.bg(img.compute(), bgmax=40)"
   ]
  },
  {
   "cell_type": "code",
   "execution_count": null,
   "id": "fa38e2c9",
   "metadata": {},
   "outputs": [],
   "source": [
    "%%time\n",
    "np.ma.mean(bg(img.compute()))"
   ]
  },
  {
   "cell_type": "code",
   "execution_count": null,
   "id": "1c18f01f",
   "metadata": {},
   "outputs": [],
   "source": [
    "%%time\n",
    "utils.bg2(img.compute(), bgmax=60)"
   ]
  },
  {
   "cell_type": "code",
   "execution_count": null,
   "id": "ee6e4871",
   "metadata": {},
   "outputs": [],
   "source": [
    "utils._bgmax(img.compute(), step=0.1)"
   ]
  },
  {
   "cell_type": "code",
   "execution_count": null,
   "id": "02325bb1",
   "metadata": {},
   "outputs": [],
   "source": [
    "utils.pbar.unregister()"
   ]
  },
  {
   "cell_type": "markdown",
   "id": "6f60d94f",
   "metadata": {},
   "source": [
    "### masked array (ma)"
   ]
  },
  {
   "cell_type": "code",
   "execution_count": null,
   "id": "19722a05",
   "metadata": {},
   "outputs": [],
   "source": [
    "a = np.ma.masked_array([1, 4, 3], mask=[False, False, True])\n",
    "b = np.ma.masked_array([10, 2, 6], mask=[False, True, False])\n",
    "\n",
    "np.ma.median([a, b], axis=0)"
   ]
  },
  {
   "cell_type": "code",
   "execution_count": null,
   "id": "52f6d16c",
   "metadata": {},
   "outputs": [],
   "source": [
    "np.ma.median(np.ma.stack([a, b]), axis=0)"
   ]
  },
  {
   "cell_type": "code",
   "execution_count": null,
   "id": "56748174",
   "metadata": {},
   "outputs": [],
   "source": [
    "img"
   ]
  },
  {
   "cell_type": "code",
   "execution_count": null,
   "id": "1ba6ec27",
   "metadata": {},
   "outputs": [],
   "source": [
    "f3 = img > skimage.filters.threshold_local(img.compute(), 601)"
   ]
  },
  {
   "cell_type": "code",
   "execution_count": null,
   "id": "31f0bf2a",
   "metadata": {},
   "outputs": [],
   "source": [
    "f3"
   ]
  },
  {
   "cell_type": "code",
   "execution_count": null,
   "id": "a3326015",
   "metadata": {},
   "outputs": [],
   "source": [
    "img[~f3].mean().compute()"
   ]
  },
  {
   "cell_type": "code",
   "execution_count": null,
   "id": "680538ab",
   "metadata": {},
   "outputs": [],
   "source": [
    "m1 = np.ma.masked_greater(img, 15)"
   ]
  },
  {
   "cell_type": "markdown",
   "id": "264c51f7",
   "metadata": {},
   "source": [
    "## generat"
   ]
  },
  {
   "cell_type": "code",
   "execution_count": null,
   "id": "dd2d831c",
   "metadata": {},
   "outputs": [],
   "source": [
    "image = \"bias + noise + dark + flat * (sky + obj)\""
   ]
  },
  {
   "cell_type": "code",
   "execution_count": null,
   "id": "fc76ec0c",
   "metadata": {},
   "outputs": [],
   "source": [
    "image"
   ]
  },
  {
   "cell_type": "markdown",
   "id": "f970ce93",
   "metadata": {},
   "source": [
    "- **bias**: generate a wave-like shape along x.\n",
    "- **noise**: random number will do.\n",
    "- **dark**: simply a scalar value.\n",
    "- **flat**: generate some 2D parabolic shape.\n",
    "- **obj**: circles-ellipsis. (MAYBE: like finite fractals to compare segmentation).\n",
    "- **sky**: None | some blurred circle-ellipsoid coincident and not with some obj.\n",
    "\n",
    "fg_prj := \n",
    "\n",
    "bg_prj := "
   ]
  },
  {
   "cell_type": "code",
   "execution_count": null,
   "id": "364bb5ca",
   "metadata": {},
   "outputs": [],
   "source": [
    "from nima import generat"
   ]
  },
  {
   "cell_type": "code",
   "execution_count": null,
   "id": "afd559f1",
   "metadata": {},
   "outputs": [],
   "source": [
    "flat = generat.gen_flat(nrows=29)\n",
    "img = plt.imshow(flat)\n",
    "plt.colorbar(img, location=\"top\", shrink=0.5)"
   ]
  },
  {
   "cell_type": "code",
   "execution_count": null,
   "id": "08d8a3f1",
   "metadata": {},
   "outputs": [],
   "source": [
    "# %%timeit\n",
    "bias = generat.gen_bias()\n",
    "flat = generat.gen_flat()\n",
    "objs = generat.gen_objs()\n",
    "frame = generat.gen_frame(objs)\n",
    "# plt.imshow(frame)"
   ]
  },
  {
   "cell_type": "code",
   "execution_count": null,
   "id": "d38fc303",
   "metadata": {},
   "outputs": [],
   "source": [
    "objs = generat.gen_objs()\n",
    "frame = generat.gen_frame(objs, bias, flat)\n",
    "# plt.imshow(frame)"
   ]
  },
  {
   "cell_type": "code",
   "execution_count": null,
   "id": "5967d57b",
   "metadata": {},
   "outputs": [],
   "source": [
    "bias = np.zeros((128, 128))\n",
    "flat = np.ones((128, 128))\n",
    "\n",
    "stack = np.stack(\n",
    "    [\n",
    "        generat.gen_frame(\n",
    "            generat.gen_objs(max_fluor=10), bias, flat, noise_sd=10, sky=10\n",
    "        )\n",
    "        for i in range(1000)\n",
    "    ]\n",
    ")"
   ]
  },
  {
   "cell_type": "code",
   "execution_count": null,
   "id": "f0c2e9e4",
   "metadata": {},
   "outputs": [],
   "source": [
    "stat_bg = []\n",
    "for s in stack[:]:\n",
    "    stat_bg.append(utils.bg(s)[0])"
   ]
  },
  {
   "cell_type": "code",
   "execution_count": null,
   "id": "ef1391f9",
   "metadata": {},
   "outputs": [],
   "source": [
    "plt.hist(stat_bg)\n",
    "np.mean(stat_bg), np.std(stat_bg)"
   ]
  },
  {
   "cell_type": "markdown",
   "id": "c0836424",
   "metadata": {},
   "source": [
    "bg2 was less robust with small signal"
   ]
  },
  {
   "cell_type": "markdown",
   "id": "42ad7ca8",
   "metadata": {},
   "source": [
    "## what is the best projection for flat calculation? "
   ]
  },
  {
   "cell_type": "code",
   "execution_count": null,
   "id": "0ff52162",
   "metadata": {},
   "outputs": [],
   "source": [
    "bias = generat.gen_bias()\n",
    "flat = generat.gen_flat()\n",
    "stack = np.stack(\n",
    "    [\n",
    "        generat.gen_frame(generat.gen_objs(max_fluor=20), bias, flat, noise_sd=1, sky=2)\n",
    "        for i in range(1000)\n",
    "    ]\n",
    ")"
   ]
  },
  {
   "cell_type": "code",
   "execution_count": null,
   "id": "4cd1e9f8",
   "metadata": {},
   "outputs": [],
   "source": [
    "def splot(stack, num=4):\n",
    "    f, axs = plt.subplots(1, num)\n",
    "    for i in range(num):\n",
    "        axs[i].imshow(stack[np.random.randint(len(stack))])\n",
    "\n",
    "\n",
    "splot(stack)"
   ]
  },
  {
   "cell_type": "code",
   "execution_count": null,
   "id": "ca669ce4",
   "metadata": {},
   "outputs": [],
   "source": [
    "def diff_plot(im, flat, title):\n",
    "    f, axs = plt.subplots(1, 2)\n",
    "    diff = im / im.mean() - flat\n",
    "    skimage.io.imshow(diff, ax=axs[0])\n",
    "    axs[1].hist(diff.ravel())\n",
    "    f.suptitle(title)\n",
    "    return diff.mean(), diff.std()\n",
    "\n",
    "\n",
    "def prj_plot(t_prj, title, sigma=128 / 11):\n",
    "    im = ndimage.gaussian_filter(t_prj, sigma=sigma)\n",
    "    return diff_plot(im, flat, title)\n",
    "\n",
    "\n",
    "def prj(stack, func):\n",
    "    t_prj = func(stack, axis=0)\n",
    "    return prj_plot(t_prj, func.__name__)\n",
    "\n",
    "\n",
    "prj(stack, np.max)"
   ]
  },
  {
   "cell_type": "code",
   "execution_count": null,
   "id": "72dfef8c",
   "metadata": {},
   "outputs": [],
   "source": [
    "prj(stack, np.mean)"
   ]
  },
  {
   "cell_type": "code",
   "execution_count": null,
   "id": "433eeb3a",
   "metadata": {},
   "outputs": [],
   "source": [
    "prj(stack, np.median)"
   ]
  },
  {
   "cell_type": "code",
   "execution_count": null,
   "id": "f14fca2a",
   "metadata": {},
   "outputs": [],
   "source": [
    "from functools import partial\n",
    "\n",
    "p999 = partial(np.percentile, q=99.9)\n",
    "p999.__name__ = \"percentile 99.9%\"\n",
    "\n",
    "prj(stack, p999)"
   ]
  },
  {
   "cell_type": "code",
   "execution_count": null,
   "id": "b151b841-d864-44fc-89f8-243b5373123b",
   "metadata": {},
   "outputs": [],
   "source": [
    "im = np.mean(\n",
    "    ndfilters.median_filter(\n",
    "        da.from_array(stack[:100] - bias), size=(32, 16, 16)\n",
    "    ).compute(),\n",
    "    axis=0,\n",
    ")\n",
    "prj_plot(im, \"dd\", sigma=7)"
   ]
  },
  {
   "cell_type": "code",
   "execution_count": null,
   "id": "8e966ddc-f927-4108-9a7b-bf32dc3f0583",
   "metadata": {},
   "outputs": [],
   "source": []
  },
  {
   "cell_type": "markdown",
   "id": "4a3b46a1",
   "metadata": {},
   "source": [
    "#### Knowing the Bias."
   ]
  },
  {
   "cell_type": "code",
   "execution_count": null,
   "id": "a54c4d1e",
   "metadata": {},
   "outputs": [],
   "source": [
    "prj(stack - bias, p999)"
   ]
  },
  {
   "cell_type": "code",
   "execution_count": null,
   "id": "429d6e5f",
   "metadata": {},
   "outputs": [],
   "source": [
    "prj(stack - bias, np.mean)"
   ]
  },
  {
   "cell_type": "markdown",
   "id": "752fdda7",
   "metadata": {},
   "source": [
    "### Using fg and bg masks?\n",
    "\n",
    "And assuming we know the bias of the camera."
   ]
  },
  {
   "cell_type": "code",
   "execution_count": null,
   "id": "1d824423",
   "metadata": {},
   "outputs": [],
   "source": [
    "def mask_plane(plane, bg_ave=2, bg_std=1.19, erf_pvalue=0.01):\n",
    "    p = utils.prob(plane, bg_ave, bg_std)\n",
    "    p = ndimage.median_filter(p, size=2)\n",
    "    mask = p > erf_pvalue\n",
    "    mask = skimage.morphology.remove_small_holes(mask)\n",
    "    return np.ma.masked_array(plane, mask=~mask), np.ma.masked_array(plane, mask=mask)\n",
    "\n",
    "\n",
    "plt.imshow(mask_plane(stack[113], *utils.bg(stack[113]))[0])"
   ]
  },
  {
   "cell_type": "code",
   "execution_count": null,
   "id": "b9c8e6d4",
   "metadata": {},
   "outputs": [],
   "source": [
    "bgs, fgs = list(zip(*[mask_plane(s - bias, *utils.bg(s - bias)) for s in stack]))\n",
    "\n",
    "splot(bgs)"
   ]
  },
  {
   "cell_type": "code",
   "execution_count": null,
   "id": "70ff0a9f",
   "metadata": {},
   "outputs": [],
   "source": [
    "t_prj = np.ma.mean(np.ma.stack(bgs), axis=0)\n",
    "prj_plot(t_prj, \"Bg mean\", sigma=3)"
   ]
  },
  {
   "cell_type": "code",
   "execution_count": null,
   "id": "d85c55fd",
   "metadata": {},
   "outputs": [],
   "source": [
    "t_prj = np.ma.max(np.ma.stack(fgs), axis=0)\n",
    "prj_plot(t_prj, \"Fg max (bias known)\", sigma=2)"
   ]
  },
  {
   "cell_type": "code",
   "execution_count": null,
   "id": "981bea30",
   "metadata": {},
   "outputs": [],
   "source": [
    "bgs, fgs = list(zip(*[mask_plane(s, *utils.bg(s)) for s in stack]))\n",
    "\n",
    "bg_prj1 = np.ma.mean(np.ma.stack(bgs[:]), axis=0)\n",
    "fg_prj1 = np.ma.mean(np.ma.stack(fgs[:]), axis=0)\n",
    "im = fg_prj1 - bg_prj1\n",
    "diff_plot(ndimage.gaussian_filter(im, 1), flat, \"Bg mean - fg mean\")"
   ]
  },
  {
   "cell_type": "code",
   "execution_count": null,
   "id": "f9f7998e",
   "metadata": {},
   "outputs": [],
   "source": [
    "bg_prj = np.ma.mean(bgs, axis=0)\n",
    "fg_prj = np.ma.max(fgs, axis=0)\n",
    "# im = ndimage.median_filter(bg_prj-fg_prj, size=60) #- 2 * flat\n",
    "im = ndimage.gaussian_filter(bg_prj - fg_prj, sigma=14)  # - 2 * flat\n",
    "\n",
    "diff_plot(im, flat, \"m\")"
   ]
  },
  {
   "cell_type": "code",
   "execution_count": null,
   "id": "c2e198b3",
   "metadata": {},
   "outputs": [],
   "source": [
    "t_prj = np.ma.max(fgs, axis=0)\n",
    "prj_plot(t_prj, \"Fg MAX\", sigma=13)"
   ]
  },
  {
   "cell_type": "code",
   "execution_count": null,
   "id": "8ed3a92f",
   "metadata": {},
   "outputs": [],
   "source": [
    "eflat = bg_prj - fg_prj\n",
    "eflat /= eflat.mean()\n",
    "eflat = ndimage.gaussian_filter(eflat, sigma=13)\n",
    "\n",
    "diff_plot(eflat, flat, \"eflat\")"
   ]
  },
  {
   "cell_type": "markdown",
   "id": "164d4d74",
   "metadata": {},
   "source": [
    "## When bias and flat are unknown...\n",
    "\n",
    "- bias = bg_prj - sky * flat\n",
    "- bias = fg_prj - flat\n",
    "\n",
    "sky * flat - flat = bg_prj - fg_prj"
   ]
  },
  {
   "cell_type": "code",
   "execution_count": null,
   "id": "d100277a",
   "metadata": {},
   "outputs": [],
   "source": [
    "diff_plot((bg_prj1 - bias) / 2, flat, \"\")"
   ]
  },
  {
   "cell_type": "code",
   "execution_count": null,
   "id": "d457e605",
   "metadata": {},
   "outputs": [],
   "source": [
    "plt.imshow((im - bias) / (im - bias).mean() - flat)\n",
    "plt.colorbar()"
   ]
  },
  {
   "cell_type": "markdown",
   "id": "1fd25fb1",
   "metadata": {},
   "source": [
    "## cfr. nima.bg"
   ]
  },
  {
   "cell_type": "code",
   "execution_count": null,
   "id": "959a7db0",
   "metadata": {},
   "outputs": [],
   "source": [
    "# r = nima.bg((stack[113] - bias) / flat)\n",
    "r = nima.bg(stack[111])"
   ]
  },
  {
   "cell_type": "code",
   "execution_count": null,
   "id": "9104c54f",
   "metadata": {},
   "outputs": [],
   "source": [
    "r[1].mean(), r[1].std()"
   ]
  },
  {
   "cell_type": "code",
   "execution_count": null,
   "id": "234f8826",
   "metadata": {},
   "outputs": [],
   "source": [
    "utils.bg(stack[111])"
   ]
  },
  {
   "cell_type": "code",
   "execution_count": null,
   "id": "b920d5ed",
   "metadata": {},
   "outputs": [],
   "source": [
    "bias.mean() + 2"
   ]
  },
  {
   "cell_type": "markdown",
   "id": "66362d94",
   "metadata": {},
   "source": [
    "## geometric mean"
   ]
  },
  {
   "cell_type": "code",
   "execution_count": null,
   "id": "6745872c",
   "metadata": {},
   "outputs": [],
   "source": [
    "vals = [0.8, 0.1, 0.3, 0.1, 0.8, 0.8, 0.8, 0.1, 0.8]\n",
    "\n",
    "np.median(vals), scipy.stats.gmean(vals), np.mean(vals)"
   ]
  },
  {
   "cell_type": "code",
   "execution_count": null,
   "id": "fae06173",
   "metadata": {},
   "outputs": [],
   "source": [
    "(0.8 * 0.8 * 0.8 * 0.8 * 0.1) ** (1 / 5)"
   ]
  }
 ],
 "metadata": {
  "kernelspec": {
   "display_name": "Python 3 (ipykernel)",
   "language": "python",
   "name": "python3"
  },
  "language_info": {
   "codemirror_mode": {
    "name": "ipython",
    "version": 3
   },
   "file_extension": ".py",
   "mimetype": "text/x-python",
   "name": "python",
   "nbconvert_exporter": "python",
   "pygments_lexer": "ipython3",
   "version": "3.11.4"
  }
 },
 "nbformat": 4,
 "nbformat_minor": 5
}
