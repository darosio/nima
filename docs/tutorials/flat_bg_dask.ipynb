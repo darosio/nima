{
 "cells": [
  {
   "cell_type": "markdown",
   "id": "fe944280-b8e8-48e5-88bc-ba3516c42b2a",
   "metadata": {},
   "source": [
    "# Image simulation with dask and generat\n",
    "\n",
    "The purpose here is to simulate images to identify the best methods for:\n",
    "\n",
    "- Determining the FLAT image\n",
    "- Segmenting cells from the background\n",
    "- Computing the ratio\n",
    "- Determine the minimal detectable gradient for a given error.\n",
    "\n",
    "Since subtracting the correct background value is crucial for accurate ratio imaging, we will test the distribution of background values with probplot for normality."
   ]
  },
  {
   "cell_type": "code",
   "execution_count": null,
   "id": "fce126a4",
   "metadata": {},
   "outputs": [],
   "source": [
    "%load_ext autoreload\n",
    "%autoreload 2\n",
    "\n",
    "import numpy as np\n",
    "import scipy\n",
    "import pandas as pd\n",
    "import matplotlib.pyplot as plt\n",
    "import tifffile as tff\n",
    "import skimage\n",
    "import skimage.io\n",
    "import skimage.filters\n",
    "import zarr\n",
    "from scipy import ndimage\n",
    "import dask.array as da\n",
    "import dask_image\n",
    "from dask_image import ndfilters\n",
    "from dask_image import ndmorph\n",
    "\n",
    "from nima import nima\n",
    "from nima import utils\n",
    "\n",
    "store = tff.imread(\"/home/dati/dt-clop3/data/210920/flatxy.tf8\", aszarr=True)\n",
    "\n",
    "zc1a = zarr.open(store)\n",
    "zc1a.info"
   ]
  },
  {
   "cell_type": "code",
   "execution_count": null,
   "id": "18c82e3d",
   "metadata": {},
   "outputs": [],
   "source": [
    "dd = da.from_zarr(store)\n",
    "dd"
   ]
  },
  {
   "cell_type": "code",
   "execution_count": null,
   "id": "59f2b3af",
   "metadata": {},
   "outputs": [],
   "source": [
    "img = dd[0, 0]\n",
    "plt.imshow(img, vmax=60)"
   ]
  },
  {
   "cell_type": "code",
   "execution_count": null,
   "id": "327fccf3",
   "metadata": {
    "tags": []
   },
   "outputs": [],
   "source": [
    "bg, bgs, bgfigs = nima.bg(img.compute())"
   ]
  },
  {
   "cell_type": "code",
   "execution_count": null,
   "id": "c9cf8b48",
   "metadata": {},
   "outputs": [],
   "source": [
    "bg, utils.bg(img.compute())"
   ]
  },
  {
   "cell_type": "code",
   "execution_count": null,
   "id": "5af3a969-a04a-4f9e-aaa7-bfc8b1f77b5f",
   "metadata": {},
   "outputs": [],
   "source": [
    "plt.figure(figsize=(8, 4))\n",
    "plt.subplot(1, 2, 1)\n",
    "plt.hist(bgs, bins=20)\n",
    "plt.subplot(1, 2, 2)\n",
    "scipy.stats.probplot(\n",
    "    bgs,\n",
    "    plot=plt,\n",
    "    rvalue=1,\n",
    ")"
   ]
  },
  {
   "cell_type": "code",
   "execution_count": null,
   "id": "135cce78",
   "metadata": {},
   "outputs": [],
   "source": [
    "pp = da.mean(\n",
    "    dask_image.ndfilters.maximum_filter(dd[0:4000:20, 0], size=(100, 1, 1)), axis=0\n",
    ")"
   ]
  },
  {
   "cell_type": "code",
   "execution_count": null,
   "id": "70ae847c",
   "metadata": {},
   "outputs": [],
   "source": [
    "ppp = pp.compute()\n",
    "\n",
    "plt.imshow(skimage.filters.gaussian(ppp, 100))"
   ]
  },
  {
   "cell_type": "code",
   "execution_count": null,
   "id": "82524ece",
   "metadata": {},
   "outputs": [],
   "source": [
    "m = img < skimage.filters.threshold_mean(img)\n",
    "skimage.filters.threshold_mean((img * m).clip(np.min(img))).compute()"
   ]
  },
  {
   "cell_type": "code",
   "execution_count": null,
   "id": "0278c953",
   "metadata": {},
   "outputs": [],
   "source": [
    "plt.imshow(img < skimage.filters.threshold_triangle(img))"
   ]
  },
  {
   "cell_type": "code",
   "execution_count": null,
   "id": "b717b594",
   "metadata": {},
   "outputs": [],
   "source": [
    "from dask_image import ndmorph\n",
    "\n",
    "\n",
    "def dabg(di):\n",
    "    m = di < skimage.filters.threshold_mean(di)\n",
    "    m1 = di < skimage.filters.threshold_mean((di * m).clip(np.min(di)))\n",
    "    m2 = ndmorph.binary_dilation(~m1)\n",
    "    return da.ma.masked_array(di, mask=~m1)"
   ]
  },
  {
   "cell_type": "code",
   "execution_count": null,
   "id": "192a1a44",
   "metadata": {},
   "outputs": [],
   "source": [
    "def bg(im):\n",
    "    m = im < skimage.filters.threshold_mean(im)\n",
    "    m1 = im < skimage.filters.threshold_mean((im * m).clip(np.min(im)))\n",
    "    m2 = skimage.morphology.binary_dilation(~m1, footprint=np.ones([1, 1]))\n",
    "    # m2 = im < skimage.filters.threshold_triangle(np.ma.masked_array(im, mask=~m))\n",
    "    return np.ma.masked_array(im, mask=m2)"
   ]
  },
  {
   "cell_type": "code",
   "execution_count": null,
   "id": "a721c405",
   "metadata": {},
   "outputs": [],
   "source": [
    "dabg(img).compute()"
   ]
  },
  {
   "cell_type": "code",
   "execution_count": null,
   "id": "cd82b23d",
   "metadata": {},
   "outputs": [],
   "source": [
    "flat = np.ma.mean(dabg(dd[333:500:1, 0]).compute(), axis=0)"
   ]
  },
  {
   "cell_type": "code",
   "execution_count": null,
   "id": "d000c58d",
   "metadata": {},
   "outputs": [],
   "source": [
    "skimage.io.imshow(flat)"
   ]
  },
  {
   "cell_type": "markdown",
   "id": "12a13285",
   "metadata": {},
   "source": [
    "### threshold mean clipping to min()"
   ]
  },
  {
   "cell_type": "code",
   "execution_count": null,
   "id": "7a010633",
   "metadata": {},
   "outputs": [],
   "source": [
    "skimage.io.imshow(bg(dd[0, 0]))"
   ]
  },
  {
   "cell_type": "code",
   "execution_count": null,
   "id": "459199ab",
   "metadata": {},
   "outputs": [],
   "source": [
    "plt.hist(bg(img).ravel())"
   ]
  },
  {
   "cell_type": "code",
   "execution_count": null,
   "id": "f833df46",
   "metadata": {},
   "outputs": [],
   "source": [
    "[np.ma.median(bg(dd[i, 0])) for i in range(10)]"
   ]
  },
  {
   "cell_type": "code",
   "execution_count": null,
   "id": "38c9290e",
   "metadata": {},
   "outputs": [],
   "source": [
    "%%time\n",
    "utils.bg(img.compute(), bgmax=40)"
   ]
  },
  {
   "cell_type": "code",
   "execution_count": null,
   "id": "fa38e2c9",
   "metadata": {},
   "outputs": [],
   "source": [
    "%%time\n",
    "np.ma.mean(bg(img.compute()))"
   ]
  },
  {
   "cell_type": "code",
   "execution_count": null,
   "id": "1c18f01f",
   "metadata": {},
   "outputs": [],
   "source": [
    "%%time\n",
    "utils.bg2(img.compute(), bgmax=60)"
   ]
  },
  {
   "cell_type": "code",
   "execution_count": null,
   "id": "ee6e4871",
   "metadata": {},
   "outputs": [],
   "source": [
    "utils._bgmax(img.compute(), step=0.1)"
   ]
  },
  {
   "cell_type": "code",
   "execution_count": null,
   "id": "02325bb1",
   "metadata": {},
   "outputs": [],
   "source": [
    "utils.pbar.unregister()"
   ]
  },
  {
   "cell_type": "markdown",
   "id": "6f60d94f",
   "metadata": {},
   "source": [
    "### masked array (ma)"
   ]
  },
  {
   "cell_type": "code",
   "execution_count": null,
   "id": "19722a05",
   "metadata": {},
   "outputs": [],
   "source": [
    "a = np.ma.masked_array([1, 4, 3], mask=[False, False, True])\n",
    "b = np.ma.masked_array([10, 2, 6], mask=[False, True, False])\n",
    "\n",
    "np.ma.median([a, b], axis=0)"
   ]
  },
  {
   "cell_type": "code",
   "execution_count": null,
   "id": "52f6d16c",
   "metadata": {},
   "outputs": [],
   "source": [
    "np.ma.median(np.ma.stack([a, b]), axis=0)"
   ]
  },
  {
   "cell_type": "code",
   "execution_count": null,
   "id": "56748174",
   "metadata": {},
   "outputs": [],
   "source": [
    "img"
   ]
  },
  {
   "cell_type": "code",
   "execution_count": null,
   "id": "1ba6ec27",
   "metadata": {},
   "outputs": [],
   "source": [
    "f3 = img > skimage.filters.threshold_local(img.compute(), 601)"
   ]
  },
  {
   "cell_type": "code",
   "execution_count": null,
   "id": "31f0bf2a",
   "metadata": {},
   "outputs": [],
   "source": [
    "f3"
   ]
  },
  {
   "cell_type": "code",
   "execution_count": null,
   "id": "a3326015",
   "metadata": {},
   "outputs": [],
   "source": [
    "img[~f3].mean().compute()"
   ]
  },
  {
   "cell_type": "code",
   "execution_count": null,
   "id": "680538ab",
   "metadata": {},
   "outputs": [],
   "source": [
    "m1 = np.ma.masked_greater(img, 15)"
   ]
  },
  {
   "cell_type": "markdown",
   "id": "264c51f7",
   "metadata": {},
   "source": [
    "## generat"
   ]
  },
  {
   "cell_type": "code",
   "execution_count": null,
   "id": "dd2d831c",
   "metadata": {},
   "outputs": [],
   "source": [
    "image = \"bias + noise + dark + flat * (sky + obj)\""
   ]
  },
  {
   "cell_type": "code",
   "execution_count": null,
   "id": "fc76ec0c",
   "metadata": {},
   "outputs": [],
   "source": [
    "image"
   ]
  },
  {
   "cell_type": "markdown",
   "id": "f970ce93",
   "metadata": {},
   "source": [
    "- **bias**: generate a wave-like shape along x.\n",
    "- **noise**: random number will do.\n",
    "- **dark**: simply a scalar value.\n",
    "- **flat**: generate some 2D parabolic shape.\n",
    "- **obj**: circles-ellipsis. (MAYBE: like finite fractals to compare segmentation).\n",
    "- **sky**: None | some blurred circle-ellipsoid coincident and not with some obj.\n",
    "\n",
    "fg_prj := \n",
    "\n",
    "bg_prj := "
   ]
  },
  {
   "cell_type": "code",
   "execution_count": null,
   "id": "98d6fe6d-b22d-45bc-aacb-1936823f010c",
   "metadata": {},
   "outputs": [],
   "source": [
    "from nima import generat"
   ]
  },
  {
   "cell_type": "code",
   "execution_count": null,
   "id": "d9f03514-c9ce-40c5-8913-eb3213a73cb5",
   "metadata": {},
   "outputs": [],
   "source": [
    "X = Y = 128\n",
    "\n",
    "plt.figure(figsize=(12, 2.8))\n",
    "\n",
    "plt.subplot(1, 5, 1)\n",
    "plt.title(\"BIAS\")\n",
    "bias = generat.gen_bias(Y, X)\n",
    "skimage.io.imshow(bias)\n",
    "\n",
    "plt.subplot(1, 5, 2)\n",
    "plt.title(\"FLAT\")\n",
    "flat = generat.gen_flat(Y, X)\n",
    "skimage.io.imshow(flat)\n",
    "\n",
    "plt.subplot(1, 5, 3)\n",
    "plt.title(\"Object\")\n",
    "single_obj = generat.gen_object(Y, X, max_radius=7)\n",
    "skimage.io.imshow(single_obj)\n",
    "\n",
    "plt.subplot(1, 5, 4)\n",
    "plt.title(\"OBJS\")\n",
    "objects = generat.gen_objs(\n",
    "    max_fluor=100, max_n_obj=13, max_radius=12, min_radius=6, ncols=Y, nrows=X\n",
    ")\n",
    "skimage.io.imshow(objects)\n",
    "\n",
    "plt.subplot(1, 5, 5)\n",
    "plt.title(\"Frame\")\n",
    "frame = generat.gen_frame(objects, bias=bias, dark=7, flat=flat, sky=17, noise_sd=3)\n",
    "skimage.io.imshow(frame)"
   ]
  },
  {
   "cell_type": "code",
   "execution_count": null,
   "id": "68049b10-909a-4333-b2d1-75c03b4b38e2",
   "metadata": {},
   "outputs": [],
   "source": [
    "objects = generat.gen_objs(\n",
    "    max_fluor=100, max_n_obj=130, max_radius=12, min_radius=6, ncols=Y, nrows=X\n",
    ")\n",
    "frame = generat.gen_frame(objects, bias=None, flat=None, dark=7, sky=17, noise_sd=3)"
   ]
  },
  {
   "cell_type": "code",
   "execution_count": null,
   "id": "d8ea8996-7fdc-4249-8c00-9a8bb8315ee3",
   "metadata": {},
   "outputs": [],
   "source": [
    "#         Method {'arcsinh', 'entropy', 'adaptive', 'li_adaptive', 'li_li'} used for the\n",
    "bg, bgv, bgf = segmentation.bg(frame)\n",
    "bg"
   ]
  },
  {
   "cell_type": "code",
   "execution_count": null,
   "id": "5a24f8c5-d470-4a2f-88ec-3bc742e98667",
   "metadata": {},
   "outputs": [],
   "source": [
    "utils.bg(frame, bgmax=frame.mean())"
   ]
  },
  {
   "cell_type": "code",
   "execution_count": null,
   "id": "a44d75d8-1fbc-4a07-a8ba-cdf6f7ad01a0",
   "metadata": {},
   "outputs": [],
   "source": [
    "r2 = utils.bg2(\n",
    "    frame,\n",
    ")\n",
    "\n",
    "plt.plot(r2[3])\n",
    "r2[:2]"
   ]
  },
  {
   "cell_type": "code",
   "execution_count": null,
   "id": "50ffc622-7b02-42c4-bb0c-2e0f2e8210d1",
   "metadata": {},
   "outputs": [],
   "source": [
    "from nima import segmentation"
   ]
  },
  {
   "cell_type": "code",
   "execution_count": null,
   "id": "ce896239-7a1f-4dcf-ae8b-01992cbc79f1",
   "metadata": {},
   "outputs": [],
   "source": [
    "a = np.array([[1, 2], [1, 1]])\n",
    "b = np.array([[3, 4], [1, 1]])\n",
    "np.stack([a, b])"
   ]
  },
  {
   "cell_type": "code",
   "execution_count": null,
   "id": "c4bdf80e-abd1-4428-a2c5-d81486c6781e",
   "metadata": {},
   "outputs": [],
   "source": [
    "from nima import utils"
   ]
  },
  {
   "cell_type": "code",
   "execution_count": null,
   "id": "6df8cc3c-0049-4c04-bdd2-b3edc7429b15",
   "metadata": {},
   "outputs": [],
   "source": [
    "%%timeit\n",
    "segmentation.bgnima3_stack(da.from_array(np.stack([frame, frame])))"
   ]
  },
  {
   "cell_type": "code",
   "execution_count": null,
   "id": "974b2ee2-c9bc-41c4-9f24-d0df445836d5",
   "metadata": {},
   "outputs": [],
   "source": [
    "bg, sd, bgv = segmentation.bgnima(frame)\n",
    "bg, sd"
   ]
  },
  {
   "cell_type": "code",
   "execution_count": null,
   "id": "f7a05ffb-b9c4-4cf1-a98f-64f97312ac56",
   "metadata": {},
   "outputs": [],
   "source": [
    "plt.imshow(frame)\n",
    "plt.colorbar()"
   ]
  },
  {
   "cell_type": "code",
   "execution_count": null,
   "id": "f8cbd54f-9a57-4138-a290-c1be396037fc",
   "metadata": {},
   "outputs": [],
   "source": [
    "lim = np.arcsinh(frame)\n",
    "plt.imshow(lim)\n",
    "plt.colorbar()"
   ]
  },
  {
   "cell_type": "code",
   "execution_count": null,
   "id": "5f1e2f34-10cf-49df-962c-1cd8a363733c",
   "metadata": {},
   "outputs": [],
   "source": [
    "lim = ndimage.percentile_filter(lim, 80, size=10)\n",
    "plt.imshow(lim)\n",
    "plt.colorbar()"
   ]
  },
  {
   "cell_type": "code",
   "execution_count": null,
   "id": "16621b46-cfec-4d2d-8d07-52a655bdfafe",
   "metadata": {},
   "outputs": [],
   "source": [
    "thr = (1 - 0.1) * lim.min() + 0.1 * lim.max()\n",
    "print(thr)\n",
    "m = lim < thr\n",
    "plt.imshow(m)\n",
    "\n",
    "bgv = frame[m]"
   ]
  },
  {
   "cell_type": "code",
   "execution_count": null,
   "id": "d422ad13-2717-4aa1-bf02-24757295c220",
   "metadata": {},
   "outputs": [],
   "source": [
    "bg0, sd0, bgv = segmentation.bgnima(frame)\n",
    "m0 = frame < bg0 + sd0\n",
    "plt.imshow(m0)"
   ]
  },
  {
   "cell_type": "code",
   "execution_count": null,
   "id": "a69daa68-2795-4377-84bd-7211199cd7fd",
   "metadata": {},
   "outputs": [],
   "source": [
    "bg2, sd2, _, _ = segmentation.bgnima2(frame)\n",
    "m2 = frame < bg2 + sd2\n",
    "plt.imshow(m2)"
   ]
  },
  {
   "cell_type": "code",
   "execution_count": null,
   "id": "9d0c527a-eff3-4b64-88af-3dcfd96b9a52",
   "metadata": {},
   "outputs": [],
   "source": [
    "bg0 + sd0, bg2 + sd2, bg0, bg2, sd0, sd2"
   ]
  },
  {
   "cell_type": "code",
   "execution_count": null,
   "id": "212af5b7-fecf-4a2c-8f52-8ba19c5b0676",
   "metadata": {},
   "outputs": [],
   "source": [
    "mm = skimage.morphology.opening(m0)\n",
    "print(mm.sum())\n",
    "mmd = skimage.morphology.dilation(mm)\n",
    "print(mm.sum())\n",
    "border = mmd * ~mm\n",
    "plt.imshow(border)"
   ]
  },
  {
   "cell_type": "code",
   "execution_count": null,
   "id": "d7dd7c4e-1fa0-4c50-b0d2-2f66e6449942",
   "metadata": {},
   "outputs": [],
   "source": [
    "bgv = frame[border]"
   ]
  },
  {
   "cell_type": "code",
   "execution_count": null,
   "id": "895c6e77-dea4-4b17-a27f-1b9972a73c49",
   "metadata": {},
   "outputs": [],
   "source": [
    "utils.prob(border, bg, sd)"
   ]
  },
  {
   "cell_type": "code",
   "execution_count": null,
   "id": "118913f3-8857-4119-bbca-931ae2f3ae4d",
   "metadata": {},
   "outputs": [],
   "source": [
    "m0.sum(), m2.sum()"
   ]
  },
  {
   "cell_type": "code",
   "execution_count": null,
   "id": "466c2333-419c-4dbd-a5ad-8a8a017142ba",
   "metadata": {},
   "outputs": [],
   "source": [
    "(m0 * m2).sum()"
   ]
  },
  {
   "cell_type": "code",
   "execution_count": null,
   "id": "4b340e64-799a-4b1d-aa53-6474fb414223",
   "metadata": {},
   "outputs": [],
   "source": [
    "plt.imshow(utils.prob(frame, bg, sd) > 0.1)"
   ]
  },
  {
   "cell_type": "code",
   "execution_count": null,
   "id": "b29ce9c1-03cb-4988-b33a-c2e9d759b4df",
   "metadata": {},
   "outputs": [],
   "source": [
    "skimage.io.imshow(utils.prob(frame, bg, sd))"
   ]
  },
  {
   "cell_type": "code",
   "execution_count": null,
   "id": "97491257-3911-45b2-95d6-9874ebab0be2",
   "metadata": {},
   "outputs": [],
   "source": [
    "arcsinh_perc = 80\n",
    "radius = 10\n",
    "perc = 0.1\n",
    "\n",
    "lim = np.arcsinh(frame)\n",
    "lim = ndimage.percentile_filter(lim, arcsinh_perc, size=radius)\n",
    "thr = (1 - perc) * lim.min() + perc * lim.max()\n",
    "m = lim < thr\n",
    "bgv = frame[m]"
   ]
  },
  {
   "cell_type": "code",
   "execution_count": null,
   "id": "f0908ce8-bdca-4ec3-ac4c-4a454dfaefd8",
   "metadata": {},
   "outputs": [],
   "source": [
    "from scipy.ndimage import convolve\n",
    "\n",
    "\n",
    "def geometric_mean_filter(image, kernel_size):\n",
    "    \"\"\"\n",
    "    Apply a geometric mean filter to an image.\n",
    "\n",
    "    Parameters:\n",
    "    - image: The input image.\n",
    "    - kernel_size: The size of the neighborhood for the filter.\n",
    "\n",
    "    Returns:\n",
    "    - The filtered image.\n",
    "    \"\"\"\n",
    "    # Ensure the image is in float format to avoid overflow\n",
    "    image = image.astype(float)\n",
    "\n",
    "    # Create a kernel filled with ones\n",
    "    kernel = np.ones((kernel_size, kernel_size))\n",
    "    kernel = skimage.morphology.disk(kernel_size)\n",
    "\n",
    "    # Apply a convolution with the kernel to get the sum of pixel values in each neighborhood\n",
    "    sum_image = convolve(image, kernel)\n",
    "\n",
    "    # Calculate the geometric mean by taking the nth root of the sum\n",
    "    # Here, n is the total number of pixels in the kernel\n",
    "    n = kernel_size * kernel_size\n",
    "    geometric_mean_image = np.power(sum_image, 1 / n)\n",
    "\n",
    "    return geometric_mean_image"
   ]
  },
  {
   "cell_type": "code",
   "execution_count": null,
   "id": "4aa43450-c22a-4a52-a6f1-bb732f1700a8",
   "metadata": {},
   "outputs": [],
   "source": [
    "ndimage.filters.minimum_filter"
   ]
  },
  {
   "cell_type": "code",
   "execution_count": null,
   "id": "c09a3b86-957e-4a58-a484-f59c2dfda79a",
   "metadata": {},
   "outputs": [],
   "source": [
    "r = segmentation.bgnima2(frame, bgmax=400993)"
   ]
  },
  {
   "cell_type": "code",
   "execution_count": null,
   "id": "7573a4fd-d762-446f-9b8a-35c2a2fc0d72",
   "metadata": {},
   "outputs": [],
   "source": [
    "plt.plot(r[2], r[3]), r[0], r[1]"
   ]
  },
  {
   "cell_type": "code",
   "execution_count": null,
   "id": "8ba5de3e-4c79-4497-bdb7-412c77cc6dd4",
   "metadata": {},
   "outputs": [],
   "source": [
    "bg222, sd222, bgv = segmentation.bgnima(frame)"
   ]
  },
  {
   "cell_type": "code",
   "execution_count": null,
   "id": "9135abb5-949e-4be1-9ab9-0573b8e030fd",
   "metadata": {},
   "outputs": [],
   "source": [
    "_, _, bgv = segmentation.bgnima(frame[mgeo])"
   ]
  },
  {
   "cell_type": "code",
   "execution_count": null,
   "id": "0bfea458-7a05-4487-96d3-a0b9fa6c3d31",
   "metadata": {},
   "outputs": [],
   "source": [
    "mgeo = geometric_mean_filter(utils.prob(frame, bg, sd), 1) > 0.01\n",
    "# mgeo = skimage.filters.median(utils.prob(frame, bg,  sd)) > 0.01\n",
    "\n",
    "mgeo = (\n",
    "    ndimage.percentile_filter(utils.prob(frame, bg222, sd222), percentile=1, size=2)\n",
    "    > 0.005\n",
    ")\n",
    "# mgeo = ndimage.uniform_filter(utils.prob(frame, bg222,  sd222), size=1) > 0.005\n",
    "# mgeo = ndimage.gaussian_filter(utils.prob(frame, bg222,  sd222), 0.25) > 0.005\n",
    "skimage.io.imshow(mgeo)"
   ]
  },
  {
   "cell_type": "code",
   "execution_count": null,
   "id": "c65318c3-b248-4476-9540-434b8ba11d36",
   "metadata": {},
   "outputs": [],
   "source": [
    "from scipy import stats\n",
    "\n",
    "step = 0.1\n",
    "\n",
    "# bgv = frame[utils.prob(frame, bg,  sd) > .01]\n",
    "bgv = frame[mgeo]\n",
    "mmin, mmax = bgv.min(), bgv.max()\n",
    "x = np.arange(mmin, mmax, step=step)\n",
    "density = stats.gaussian_kde(bgv)(x)\n",
    "pos_max = signal.find_peaks(density, width=2, rel_height=0.1)[0][0]\n",
    "v = density[pos_max] / 2\n",
    "pos_delta = signal.find_peaks(-np.absolute(density - v), width=2, rel_height=0.2)[0][0]\n",
    "delta = (pos_max - pos_delta) * step\n",
    "bg222 = pos_max * step + mmin\n",
    "sd222 = delta\n",
    "plt.plot(x, density)\n",
    "print(bg222, sd222)"
   ]
  },
  {
   "cell_type": "code",
   "execution_count": null,
   "id": "046310ef-a765-48b0-9fd0-cbc09bf87036",
   "metadata": {},
   "outputs": [],
   "source": [
    "# bgv = frame[utils.prob(frame, bg222, sd222) > .01]\n",
    "\n",
    "plt.figure(figsize=(8, 4))\n",
    "plt.subplot(1, 2, 1)\n",
    "f = plt.hist(bgv, bins=20)\n",
    "plt.subplot(1, 2, 2)\n",
    "rp = scipy.stats.probplot(\n",
    "    bgv,\n",
    "    plot=plt,\n",
    "    rvalue=1,\n",
    ")"
   ]
  },
  {
   "cell_type": "code",
   "execution_count": null,
   "id": "ef8072f1-25a2-4622-baad-d0caa1f45e75",
   "metadata": {},
   "outputs": [],
   "source": [
    "bgf[1]"
   ]
  },
  {
   "cell_type": "code",
   "execution_count": null,
   "id": "f6f05146-19ee-4deb-bcad-77aa69549dd2",
   "metadata": {},
   "outputs": [],
   "source": [
    "objs = generat.gen_objs(15, 20, max_radius=12, min_radius=6, ncols=64, nrows=64)\n",
    "frame = generat.gen_frame(objs, None, None, dark=10, sky=0, noise_sd=6)\n",
    "\n",
    "bg, bgs, bgfigs = nima.bg(frame.astype(\"float\"))\n",
    "plt.hist(bgs, bins=8)\n",
    "bg"
   ]
  },
  {
   "cell_type": "code",
   "execution_count": null,
   "id": "cc4d574d-18ba-479c-82d8-4135bb389e12",
   "metadata": {},
   "outputs": [],
   "source": [
    "bg_arcsinh = []\n",
    "bg_entropy = []\n",
    "bg_adaptive = []\n",
    "bg_liadaptive = []\n",
    "bg_lili = []\n",
    "bg_utils = []\n",
    "bg2_utils = []\n",
    "\n",
    "\n",
    "def safe_call(func, *args, **kwargs):\n",
    "    \"\"\"\n",
    "    A wrapper function that attempts to call the given function with the provided arguments.\n",
    "    If the function call raises an exception, it returns NaN.\n",
    "    \"\"\"\n",
    "    try:\n",
    "        return func(*args, **kwargs)\n",
    "    except Exception as e:\n",
    "        print(f\"An error occurred: {e}\")\n",
    "        return np.nan\n",
    "\n",
    "\n",
    "for _ in range(125):\n",
    "    objs = generat.gen_objs(150, 60, max_radius=12, min_radius=6, ncols=64, nrows=64)\n",
    "    frame = generat.gen_frame(objs, None, None, dark=10, sky=0, noise_sd=2)\n",
    "    bg_arcsinh.append(safe_call(nima.bg, frame.astype(\"float\"), kind=\"arcsinh\")[0])\n",
    "    # bg_entropy.append(safe_call(nima.bg. frame, kind='entropy')[0])\n",
    "    bg_adaptive.append(safe_call(nima.bg, frame, kind=\"adaptive\")[0])\n",
    "    bg_liadaptive.append(safe_call(nima.bg, frame, kind=\"li_adaptive\")[0])\n",
    "    bg_lili.append(safe_call(nima.bg, frame, kind=\"li_li\")[0])\n",
    "    bg_utils.append(safe_call(utils.bg, frame)[0])\n",
    "    bg2_utils.append(safe_call(utils.bg2, frame)[0])"
   ]
  },
  {
   "cell_type": "code",
   "execution_count": null,
   "id": "1595d98c-7ebe-4e82-aeaf-ba7bcdc131b5",
   "metadata": {},
   "outputs": [],
   "source": [
    "skimage.io.imshow(frame)"
   ]
  },
  {
   "cell_type": "code",
   "execution_count": null,
   "id": "67e39fec-5020-47f1-b66c-47e2d8ed805e",
   "metadata": {},
   "outputs": [],
   "source": [
    "# Create DataFrame to organize results and plot boxplot\n",
    "df = pd.DataFrame(\n",
    "    np.column_stack(\n",
    "        #        (bg_arcsinh, bg_entropy, bg_adaptive, bg_liadaptive, bg_lili, bg_utils)\n",
    "        (bg_arcsinh, bg_adaptive, bg_liadaptive, bg_lili, bg_utils, bg2_utils)\n",
    "    ),\n",
    "    columns=[\"arcsinh\", \"adaptive\", \"li_adaptive\", \"li li\", \"utils.bg\", \"utils.bg2\"],\n",
    ")\n",
    "f = df.boxplot(vert=False, showfliers=False)\n",
    "plt.xlim((5, 15))"
   ]
  },
  {
   "cell_type": "code",
   "execution_count": null,
   "id": "6811977b-58e8-465f-9294-a4cbbbf3d494",
   "metadata": {},
   "outputs": [],
   "source": [
    "import seaborn as sb\n",
    "\n",
    "sb.regplot(pd.DataFrame(dict(x=bg_arcsinh, y=bg2_utils)), x=\"x\", y=\"y\")"
   ]
  },
  {
   "cell_type": "code",
   "execution_count": null,
   "id": "7bc1a8d3-1bf3-4b97-a8d8-9d8bc715e5b7",
   "metadata": {},
   "outputs": [],
   "source": [
    "np.argmax(bg_arcsinh)"
   ]
  },
  {
   "cell_type": "code",
   "execution_count": null,
   "id": "dcaf7c66-1505-4cd4-89a9-02c3b00a501e",
   "metadata": {},
   "outputs": [],
   "source": [
    "bg2_utils.pop(14)"
   ]
  },
  {
   "cell_type": "code",
   "execution_count": null,
   "id": "c6c775ad-5ada-42cd-966e-e211925b4816",
   "metadata": {},
   "outputs": [],
   "source": [
    "def gen_object(\n",
    "    nrows: int = 128, ncols: int = 128, min_radius: int = 6, max_radius: int = 12\n",
    "):\n",
    "    \"\"\"Generate a single small object without random positioning.\"\"\"\n",
    "    x_idx, y_idx = np.indices((nrows, ncols))\n",
    "    x_obj = nrows // 2  # Center of the frame\n",
    "    y_obj = ncols // 2  # Center of the frame\n",
    "    radius = np.random.randint(min_radius, max_radius)\n",
    "    ellipsis = np.random.rand() * 3.5 - 1.75\n",
    "    mask = np.array(\n",
    "        (x_idx - x_obj) ** 2\n",
    "        + (y_idx - y_obj) ** 2\n",
    "        + ellipsis * (x_idx - x_obj) * (y_idx - y_obj)\n",
    "        < radius**2\n",
    "    )\n",
    "    return mask\n",
    "\n",
    "\n",
    "# Generate a single small object\n",
    "small_object = gen_object(nrows=12, ncols=12, min_radius=3, max_radius=4)\n",
    "\n",
    "# Plot the generated object\n",
    "plt.imshow(small_object, cmap=\"gray\")\n",
    "plt.title(\"Single Small Object\")\n",
    "plt.xlabel(\"X\")\n",
    "plt.ylabel(\"Y\")\n",
    "plt.show()"
   ]
  },
  {
   "cell_type": "code",
   "execution_count": null,
   "id": "b7c5ea2c-6b32-4d4d-89c6-8cba474c8400",
   "metadata": {},
   "outputs": [],
   "source": [
    "import scipy.signal\n",
    "\n",
    "# Convolve the small object with the flat image\n",
    "convolved_image = scipy.signal.convolve2d(flat, small_object, mode=\"same\")\n",
    "\n",
    "# Plot the convolved image\n",
    "plt.imshow(convolved_image, cmap=\"gray\")\n",
    "plt.colorbar()\n",
    "plt.title(\"Convolved Image\")"
   ]
  },
  {
   "cell_type": "code",
   "execution_count": null,
   "id": "d7b8cc42-7b2e-4b94-bbd5-e71f511b0376",
   "metadata": {},
   "outputs": [],
   "source": [
    "flat.shape[1] - small_object.shape[1]"
   ]
  },
  {
   "cell_type": "code",
   "execution_count": null,
   "id": "71c40ff7-0284-4bae-b375-6ad6c632e1bc",
   "metadata": {},
   "outputs": [],
   "source": [
    "# Number of frames in the stack\n",
    "num_frames = 10000\n",
    "\n",
    "# Initialize an empty stack to store the frames\n",
    "stack = np.zeros_like(flat)\n",
    "\n",
    "# Iterate over each frame in the stack\n",
    "for _ in range(num_frames):\n",
    "    # Generate random coordinates for the position of the small object within the flat image\n",
    "    x_pos = np.random.randint(0, flat.shape[1] - small_object.shape[1])\n",
    "    y_pos = np.random.randint(0, flat.shape[0] - small_object.shape[0])\n",
    "\n",
    "    # Add the small object to the flat image at the random position\n",
    "    flat_image_with_object = flat.copy()\n",
    "    flat_image_with_object[\n",
    "        y_pos : y_pos + small_object.shape[0], x_pos : x_pos + small_object.shape[1]\n",
    "    ] += small_object\n",
    "\n",
    "    # Add the frame with the small object to the stack\n",
    "    stack += flat_image_with_object\n",
    "\n",
    "# Plot the summed stack\n",
    "estimated = stack / stack.mean()\n",
    "plt.imshow(estimated, cmap=\"gray\")\n",
    "plt.colorbar()\n",
    "plt.title(\"Summed Stack with Small Object\")\n",
    "plt.show()\n",
    "# plt.imshow(estimated - flat, cmap='gray')\n",
    "skimage.io.imshow(ndimage.gaussian_filter(estimated, sigma=3) - flat)"
   ]
  },
  {
   "cell_type": "code",
   "execution_count": null,
   "id": "0ba9db07-f612-49cd-a9de-fb2bcb2d146c",
   "metadata": {},
   "outputs": [],
   "source": [
    "# Calculate the Fourier transform of the small object\n",
    "fourier_transform_obj = np.fft.fft2(small_object)\n",
    "\n",
    "# Calculate the magnitude spectrum of the Fourier transform\n",
    "magnitude_spectrum = np.abs(np.fft.fftshift(fourier_transform_obj))\n",
    "\n",
    "# Plot the magnitude spectrum\n",
    "plt.imshow(magnitude_spectrum, cmap=\"gray\")\n",
    "plt.colorbar(label=\"Magnitude\")\n",
    "plt.title(\"Magnitude Spectrum of Fourier Transform\")\n",
    "plt.xlabel(\"Frequency (kx)\")\n",
    "plt.ylabel(\"Frequency (ky)\")\n",
    "plt.show()"
   ]
  },
  {
   "cell_type": "code",
   "execution_count": null,
   "id": "45ddd792-d280-4ce7-94ab-c77c5a979ba3",
   "metadata": {},
   "outputs": [],
   "source": [
    "# Apply the convolution theorem\n",
    "flat_fft = np.fft.fft2(stack)\n",
    "\n",
    "# Calculate the Fourier transform of the small object\n",
    "fourier_transform_obj = np.fft.fft2(small_object)\n",
    "\n",
    "# Pad the small object to match the shape of flat\n",
    "padded_obj = np.pad(\n",
    "    small_object,\n",
    "    (\n",
    "        (0, flat.shape[0] - small_object.shape[0]),\n",
    "        (0, flat.shape[1] - small_object.shape[1]),\n",
    "    ),\n",
    "    mode=\"constant\",\n",
    ")\n",
    "\n",
    "# Calculate the Fourier transform of the padded small object\n",
    "fourier_transform_padded_obj = np.fft.fft2(padded_obj)\n",
    "\n",
    "# Calculate the Fourier transform of the flat image\n",
    "flat_fft = np.fft.fft2(flat)\n",
    "\n",
    "# Perform element-wise division\n",
    "result_fft = np.fft.ifftshift(\n",
    "    np.fft.ifft2(np.fft.fftshift(flat_fft / fourier_transform_padded_obj))\n",
    ")\n",
    "# result_fft = np.fft.ifftshift(np.fft.ifft2(np.fft.fftshift(flat_fft / fourier_transform_obj)))\n",
    "\n",
    "# Take the real part to get rid of any numerical artifacts\n",
    "result = np.real(result_fft)\n",
    "\n",
    "# Plot the resulting flat image\n",
    "plt.imshow(result, cmap=\"gray\")\n",
    "plt.colorbar(label=\"Intensity\")\n",
    "plt.title(\"Resulting Flat Image\")\n",
    "plt.xlabel(\"X\")\n",
    "plt.ylabel(\"Y\")\n",
    "plt.show()"
   ]
  },
  {
   "cell_type": "code",
   "execution_count": null,
   "id": "fd3b608f-869f-4a89-8bdd-d33de2beb84a",
   "metadata": {},
   "outputs": [],
   "source": [
    "from nima import generat\n",
    "\n",
    "flat = generat.gen_flat()\n",
    "bias = np.zeros((128, 128))\n",
    "\n",
    "objs = generat.gen_objs(max_fluor=20, max_n_obj=80)\n",
    "frame = generat.gen_frame(objs, bias=bias, flat=flat, noise_sd=2, dark=7, sky=7)\n",
    "\n",
    "# Plot the frame\n",
    "plt.imshow(frame, cmap=\"viridis\", origin=\"lower\")\n",
    "plt.colorbar(label=\"Intensity\")\n",
    "plt.title(\"Simulated Image Frame without Bias\")\n",
    "plt.xlabel(\"X\")\n",
    "plt.ylabel(\"Y\")\n",
    "plt.show()"
   ]
  },
  {
   "cell_type": "code",
   "execution_count": null,
   "id": "32dd6e21-f9af-4b1e-b6a8-c6ff1acc17ef",
   "metadata": {},
   "outputs": [],
   "source": [
    "from tqdm import tqdm\n",
    "\n",
    "# Generate a stack of frames\n",
    "num_frames = 100\n",
    "frame_stack = []\n",
    "for _ in tqdm(range(num_frames), desc=\"Generating Frames\"):\n",
    "    objs = generat.gen_objs(max_fluor=20, max_n_obj=80)\n",
    "    frame = generat.gen_frame(objs, bias=bias, flat=flat, noise_sd=2, dark=7, sky=7)\n",
    "    frame_stack.append(frame)"
   ]
  },
  {
   "cell_type": "code",
   "execution_count": null,
   "id": "08d8a3f1",
   "metadata": {},
   "outputs": [],
   "source": [
    "from functools import partial\n",
    "\n",
    "p999 = partial(np.percentile, q=99.7)\n",
    "p999.__name__ = \"percentile 99.9%\"\n",
    "\n",
    "\n",
    "def diff_plot(im, flat, title):\n",
    "    f, axs = plt.subplots(1, 2)\n",
    "    diff = im / im.mean() - flat\n",
    "    skimage.io.imshow(diff, ax=axs[0])\n",
    "    axs[1].hist(diff.ravel())\n",
    "    f.suptitle(title)\n",
    "    return diff.mean(), diff.std()\n",
    "\n",
    "\n",
    "def prj_plot(t_prj, title, sigma=128 / 11):\n",
    "    im = ndimage.gaussian_filter(t_prj, sigma=sigma)\n",
    "    return diff_plot(im, flat, title)\n",
    "\n",
    "\n",
    "def prj(stack, func, sigma):\n",
    "    t_prj = func(stack, axis=0)\n",
    "    return prj_plot(t_prj, func.__name__)\n",
    "\n",
    "\n",
    "prj(frame_stack, np.max, sigma=3)\n",
    "prj(frame_stack, p999, sigma=3)\n",
    "prj(frame_stack, np.mean, sigma=3)\n",
    "prj(frame_stack, np.median, sigma=3)\n",
    "prj(frame_stack, np.min, sigma=3)"
   ]
  },
  {
   "cell_type": "code",
   "execution_count": null,
   "id": "d38fc303",
   "metadata": {},
   "outputs": [],
   "source": [
    "objs = generat.gen_objs(max_fluor=20, max_n_obj=8)\n",
    "frame = generat.gen_frame(objs, bias=bias, flat)\n",
    "plt.imshow(frame)"
   ]
  },
  {
   "cell_type": "code",
   "execution_count": null,
   "id": "5967d57b",
   "metadata": {},
   "outputs": [],
   "source": [
    "bias = np.zeros((128, 128))\n",
    "flat = np.ones((128, 128))\n",
    "\n",
    "stack = np.stack(\n",
    "    [\n",
    "        generat.gen_frame(\n",
    "            generat.gen_objs(max_fluor=10), bias, flat, noise_sd=10, sky=10\n",
    "        )\n",
    "        for i in range(1000)\n",
    "    ]\n",
    ")"
   ]
  },
  {
   "cell_type": "code",
   "execution_count": null,
   "id": "f0c2e9e4",
   "metadata": {},
   "outputs": [],
   "source": [
    "stat_bg = []\n",
    "for s in stack[:]:\n",
    "    stat_bg.append(utils.bg(s)[0])"
   ]
  },
  {
   "cell_type": "code",
   "execution_count": null,
   "id": "ef1391f9",
   "metadata": {},
   "outputs": [],
   "source": [
    "plt.hist(stat_bg)\n",
    "np.mean(stat_bg), np.std(stat_bg)"
   ]
  },
  {
   "cell_type": "markdown",
   "id": "c0836424",
   "metadata": {},
   "source": [
    "bg2 was less robust with small signal"
   ]
  },
  {
   "cell_type": "markdown",
   "id": "42ad7ca8",
   "metadata": {},
   "source": [
    "## what is the best projection for flat calculation? "
   ]
  },
  {
   "cell_type": "code",
   "execution_count": null,
   "id": "0ff52162",
   "metadata": {},
   "outputs": [],
   "source": [
    "bias = generat.gen_bias()\n",
    "flat = generat.gen_flat()\n",
    "stack = np.stack(\n",
    "    [\n",
    "        generat.gen_frame(generat.gen_objs(max_fluor=20), bias, flat, noise_sd=1, sky=2)\n",
    "        for i in range(1000)\n",
    "    ]\n",
    ")"
   ]
  },
  {
   "cell_type": "code",
   "execution_count": null,
   "id": "4cd1e9f8",
   "metadata": {},
   "outputs": [],
   "source": [
    "def splot(stack, num=4):\n",
    "    f, axs = plt.subplots(1, num)\n",
    "    for i in range(num):\n",
    "        axs[i].imshow(stack[np.random.randint(len(stack))])\n",
    "\n",
    "\n",
    "splot(stack)"
   ]
  },
  {
   "cell_type": "code",
   "execution_count": null,
   "id": "ca669ce4",
   "metadata": {},
   "outputs": [],
   "source": [
    "def diff_plot(im, flat, title):\n",
    "    f, axs = plt.subplots(1, 2)\n",
    "    diff = im / im.mean() - flat\n",
    "    skimage.io.imshow(diff, ax=axs[0])\n",
    "    axs[1].hist(diff.ravel())\n",
    "    f.suptitle(title)\n",
    "    return diff.mean(), diff.std()\n",
    "\n",
    "\n",
    "def prj_plot(t_prj, title, sigma=128 / 11):\n",
    "    im = ndimage.gaussian_filter(t_prj, sigma=sigma)\n",
    "    return diff_plot(im, flat, title)\n",
    "\n",
    "\n",
    "def prj(stack, func):\n",
    "    t_prj = func(stack, axis=0)\n",
    "    return prj_plot(t_prj, func.__name__)\n",
    "\n",
    "\n",
    "prj(stack, np.max)"
   ]
  },
  {
   "cell_type": "code",
   "execution_count": null,
   "id": "72dfef8c",
   "metadata": {},
   "outputs": [],
   "source": [
    "prj(stack, np.mean)"
   ]
  },
  {
   "cell_type": "code",
   "execution_count": null,
   "id": "433eeb3a",
   "metadata": {},
   "outputs": [],
   "source": [
    "prj(stack, np.median)"
   ]
  },
  {
   "cell_type": "code",
   "execution_count": null,
   "id": "f14fca2a",
   "metadata": {},
   "outputs": [],
   "source": [
    "from functools import partial\n",
    "\n",
    "p999 = partial(np.percentile, q=99.9)\n",
    "p999.__name__ = \"percentile 99.9%\"\n",
    "\n",
    "prj(stack, p999)"
   ]
  },
  {
   "cell_type": "code",
   "execution_count": null,
   "id": "b151b841-d864-44fc-89f8-243b5373123b",
   "metadata": {},
   "outputs": [],
   "source": [
    "im = np.mean(\n",
    "    ndfilters.median_filter(\n",
    "        da.from_array(stack[:100] - bias), size=(32, 16, 16)\n",
    "    ).compute(),\n",
    "    axis=0,\n",
    ")\n",
    "prj_plot(im, \"dd\", sigma=7)"
   ]
  },
  {
   "cell_type": "code",
   "execution_count": null,
   "id": "8e966ddc-f927-4108-9a7b-bf32dc3f0583",
   "metadata": {},
   "outputs": [],
   "source": []
  },
  {
   "cell_type": "markdown",
   "id": "4a3b46a1",
   "metadata": {},
   "source": [
    "#### Knowing the Bias."
   ]
  },
  {
   "cell_type": "code",
   "execution_count": null,
   "id": "a54c4d1e",
   "metadata": {},
   "outputs": [],
   "source": [
    "prj(stack - bias, p999)"
   ]
  },
  {
   "cell_type": "code",
   "execution_count": null,
   "id": "429d6e5f",
   "metadata": {},
   "outputs": [],
   "source": [
    "prj(stack - bias, np.mean)"
   ]
  },
  {
   "cell_type": "markdown",
   "id": "752fdda7",
   "metadata": {},
   "source": [
    "### Using fg and bg masks?\n",
    "\n",
    "And assuming we know the bias of the camera."
   ]
  },
  {
   "cell_type": "code",
   "execution_count": null,
   "id": "1d824423",
   "metadata": {},
   "outputs": [],
   "source": [
    "def mask_plane(plane, bg_ave=2, bg_std=1.19, erf_pvalue=0.01):\n",
    "    p = utils.prob(plane, bg_ave, bg_std)\n",
    "    p = ndimage.median_filter(p, size=2)\n",
    "    mask = p > erf_pvalue\n",
    "    mask = skimage.morphology.remove_small_holes(mask)\n",
    "    return np.ma.masked_array(plane, mask=~mask), np.ma.masked_array(plane, mask=mask)\n",
    "\n",
    "\n",
    "plt.imshow(mask_plane(stack[113], *utils.bg(stack[113]))[0])"
   ]
  },
  {
   "cell_type": "code",
   "execution_count": null,
   "id": "b9c8e6d4",
   "metadata": {},
   "outputs": [],
   "source": [
    "bgs, fgs = list(zip(*[mask_plane(s - bias, *utils.bg(s - bias)) for s in stack]))\n",
    "\n",
    "splot(bgs)"
   ]
  },
  {
   "cell_type": "code",
   "execution_count": null,
   "id": "70ff0a9f",
   "metadata": {},
   "outputs": [],
   "source": [
    "t_prj = np.ma.mean(np.ma.stack(bgs), axis=0)\n",
    "prj_plot(t_prj, \"Bg mean\", sigma=3)"
   ]
  },
  {
   "cell_type": "code",
   "execution_count": null,
   "id": "d85c55fd",
   "metadata": {},
   "outputs": [],
   "source": [
    "t_prj = np.ma.max(np.ma.stack(fgs), axis=0)\n",
    "prj_plot(t_prj, \"Fg max (bias known)\", sigma=2)"
   ]
  },
  {
   "cell_type": "code",
   "execution_count": null,
   "id": "981bea30",
   "metadata": {},
   "outputs": [],
   "source": [
    "bgs, fgs = list(zip(*[mask_plane(s, *utils.bg(s)) for s in stack]))\n",
    "\n",
    "bg_prj1 = np.ma.mean(np.ma.stack(bgs[:]), axis=0)\n",
    "fg_prj1 = np.ma.mean(np.ma.stack(fgs[:]), axis=0)\n",
    "im = fg_prj1 - bg_prj1\n",
    "diff_plot(ndimage.gaussian_filter(im, 1), flat, \"Bg mean - fg mean\")"
   ]
  },
  {
   "cell_type": "code",
   "execution_count": null,
   "id": "f9f7998e",
   "metadata": {},
   "outputs": [],
   "source": [
    "bg_prj = np.ma.mean(bgs, axis=0)\n",
    "fg_prj = np.ma.max(fgs, axis=0)\n",
    "# im = ndimage.median_filter(bg_prj-fg_prj, size=60) #- 2 * flat\n",
    "im = ndimage.gaussian_filter(bg_prj - fg_prj, sigma=14)  # - 2 * flat\n",
    "\n",
    "diff_plot(im, flat, \"m\")"
   ]
  },
  {
   "cell_type": "code",
   "execution_count": null,
   "id": "c2e198b3",
   "metadata": {},
   "outputs": [],
   "source": [
    "t_prj = np.ma.max(fgs, axis=0)\n",
    "prj_plot(t_prj, \"Fg MAX\", sigma=13)"
   ]
  },
  {
   "cell_type": "code",
   "execution_count": null,
   "id": "8ed3a92f",
   "metadata": {},
   "outputs": [],
   "source": [
    "eflat = bg_prj - fg_prj\n",
    "eflat /= eflat.mean()\n",
    "eflat = ndimage.gaussian_filter(eflat, sigma=13)\n",
    "\n",
    "diff_plot(eflat, flat, \"eflat\")"
   ]
  },
  {
   "cell_type": "markdown",
   "id": "164d4d74",
   "metadata": {},
   "source": [
    "## When bias and flat are unknown...\n",
    "\n",
    "- bias = bg_prj - sky * flat\n",
    "- bias = fg_prj - flat\n",
    "\n",
    "sky * flat - flat = bg_prj - fg_prj"
   ]
  },
  {
   "cell_type": "code",
   "execution_count": null,
   "id": "d100277a",
   "metadata": {},
   "outputs": [],
   "source": [
    "diff_plot((bg_prj1 - bias) / 2, flat, \"\")"
   ]
  },
  {
   "cell_type": "code",
   "execution_count": null,
   "id": "d457e605",
   "metadata": {},
   "outputs": [],
   "source": [
    "plt.imshow((im - bias) / (im - bias).mean() - flat)\n",
    "plt.colorbar()"
   ]
  },
  {
   "cell_type": "markdown",
   "id": "1fd25fb1",
   "metadata": {},
   "source": [
    "## cfr. nima.bg"
   ]
  },
  {
   "cell_type": "code",
   "execution_count": null,
   "id": "959a7db0",
   "metadata": {},
   "outputs": [],
   "source": [
    "# r = nima.bg((stack[113] - bias) / flat)\n",
    "r = nima.bg(stack[111])"
   ]
  },
  {
   "cell_type": "code",
   "execution_count": null,
   "id": "9104c54f",
   "metadata": {},
   "outputs": [],
   "source": [
    "r[1].mean(), r[1].std()"
   ]
  },
  {
   "cell_type": "code",
   "execution_count": null,
   "id": "234f8826",
   "metadata": {},
   "outputs": [],
   "source": [
    "utils.bg(stack[111])"
   ]
  },
  {
   "cell_type": "code",
   "execution_count": null,
   "id": "b920d5ed",
   "metadata": {},
   "outputs": [],
   "source": [
    "bias.mean() + 2"
   ]
  },
  {
   "cell_type": "markdown",
   "id": "66362d94",
   "metadata": {},
   "source": [
    "## geometric mean"
   ]
  },
  {
   "cell_type": "code",
   "execution_count": null,
   "id": "6745872c",
   "metadata": {},
   "outputs": [],
   "source": [
    "vals = [0.8, 0.1, 0.3, 0.1, 0.8, 0.8, 0.8, 0.1, 0.8]\n",
    "\n",
    "np.median(vals), scipy.stats.gmean(vals), np.mean(vals)"
   ]
  },
  {
   "cell_type": "code",
   "execution_count": null,
   "id": "fae06173",
   "metadata": {},
   "outputs": [],
   "source": [
    "(0.8 * 0.8 * 0.8 * 0.8 * 0.1) ** (1 / 5)"
   ]
  }
 ],
 "metadata": {
  "kernelspec": {
   "display_name": "Python 3 (ipykernel)",
   "language": "python",
   "name": "python3"
  },
  "language_info": {
   "codemirror_mode": {
    "name": "ipython",
    "version": 3
   },
   "file_extension": ".py",
   "mimetype": "text/x-python",
   "name": "python",
   "nbconvert_exporter": "python",
   "pygments_lexer": "ipython3",
   "version": "3.11.8"
  }
 },
 "nbformat": 4,
 "nbformat_minor": 5
}
